{
 "cells": [
  {
   "cell_type": "code",
   "execution_count": 2,
   "metadata": {},
   "outputs": [
    {
     "name": "stdout",
     "output_type": "stream",
     "text": [
      "d:\\MLOps\\Hands_on\\DVC\\DVC\n"
     ]
    }
   ],
   "source": [
    "# Set the repository root as a working directory \n",
    "\n",
    "%cd .."
   ]
  },
  {
   "cell_type": "code",
   "execution_count": 1,
   "metadata": {
    "ExecuteTime": {
     "end_time": "2020-10-25T10:36:01.274676Z",
     "start_time": "2020-10-25T10:36:01.233317Z"
    }
   },
   "outputs": [],
   "source": [
    "%load_ext autoreload\n",
    "%autoreload 2\n",
    "\n",
    "import os\n",
    "import sys"
   ]
  },
  {
   "cell_type": "markdown",
   "metadata": {},
   "source": [
    "# View `params.yaml` config"
   ]
  },
  {
   "cell_type": "code",
   "execution_count": 10,
   "metadata": {
    "ExecuteTime": {
     "end_time": "2020-10-25T10:23:55.547898Z",
     "start_time": "2020-10-25T10:23:55.522906Z"
    },
    "scrolled": true
   },
   "outputs": [
    {
     "name": "stdout",
     "output_type": "stream",
     "text": [
      "{'base': {'log_level': 'INFO', 'random_state': 42},\n",
      " 'data_load': {'dataset_csv': 'data/raw/iris.csv'},\n",
      " 'data_split': {'test_size': 0.2,\n",
      "                'testset_path': 'data/processed/test_iris.csv',\n",
      "                'trainset_path': 'data/processed/train_iris.csv'},\n",
      " 'evaluate': {'confusion_matrix_image': 'confusion_matrix.png',\n",
      "              'metrics_file': 'metrics.json',\n",
      "              'reports_dir': 'reports'},\n",
      " 'featurize': {'features_path': 'data/processed/featured_iris.csv',\n",
      "               'target_column': 'target'},\n",
      " 'train': {'cv': 3,\n",
      "           'estimator_name': 'logreg',\n",
      "           'estimators': {'logreg': {'param_grid': {'C': [0.001],\n",
      "                                                    'max_iter': [100],\n",
      "                                                    'multi_class': ['multinomial'],\n",
      "                                                    'solver': ['lbfgs']}},\n",
      "                          'svm': {'param_grid': {'C': [0.1, 1.0],\n",
      "                                                 'degree': [3, 5],\n",
      "                                                 'gamma': ['scale'],\n",
      "                                                 'kernel': ['rbf', 'linear']}}},\n",
      "           'model_path': 'models/model.joblib'}}\n"
     ]
    }
   ],
   "source": [
    "# Look on stages config \n",
    "# Read config\n",
    "import pprint\n",
    "import yaml\n",
    "\n",
    "with open('params.yaml') as conf_file:\n",
    "    config = yaml.safe_load(conf_file)\n",
    "\n",
    "pprint.pprint(config)"
   ]
  },
  {
   "cell_type": "markdown",
   "metadata": {},
   "source": [
    "# Load data\n",
    "\n",
    "- src/stages/data_load.py"
   ]
  },
  {
   "cell_type": "markdown",
   "metadata": {},
   "source": [
    "## Run as Python function "
   ]
  },
  {
   "cell_type": "code",
   "execution_count": 11,
   "metadata": {
    "ExecuteTime": {
     "end_time": "2020-10-25T10:27:53.500242Z",
     "start_time": "2020-10-25T10:27:53.462937Z"
    },
    "scrolled": true
   },
   "outputs": [
    {
     "name": "stdout",
     "output_type": "stream",
     "text": [
      "2024-10-10 16:23:18,821 — DATA_LOAD — INFO — Get dataset\n",
      "2024-10-10 16:23:18,825 — DATA_LOAD — INFO — Save raw data\n"
     ]
    }
   ],
   "source": [
    "from src.stages.data_load import data_load\n",
    "\n",
    "data_load('params.yaml')"
   ]
  },
  {
   "cell_type": "markdown",
   "metadata": {},
   "source": [
    "## Run as Python module"
   ]
  },
  {
   "cell_type": "code",
   "execution_count": 2,
   "metadata": {
    "ExecuteTime": {
     "end_time": "2020-10-25T10:27:55.871372Z",
     "start_time": "2020-10-25T10:27:54.438413Z"
    }
   },
   "outputs": [
    {
     "name": "stdout",
     "output_type": "stream",
     "text": [
      "2024-10-10 16:31:25,510 — DATA_LOAD — INFO — Get dataset\n",
      "2024-10-10 16:31:25,516 — DATA_LOAD — INFO — Save raw data\n"
     ]
    }
   ],
   "source": [
    "!python src/stages/data_load.py --config=params.yaml"
   ]
  },
  {
   "cell_type": "markdown",
   "metadata": {},
   "source": [
    "# Load data\n",
    "\n",
    "- src/stages/data_load.py"
   ]
  },
  {
   "cell_type": "code",
   "execution_count": 3,
   "metadata": {
    "ExecuteTime": {
     "end_time": "2020-10-25T10:27:56.017786Z",
     "start_time": "2020-10-25T10:27:55.977232Z"
    }
   },
   "outputs": [
    {
     "name": "stdout",
     "output_type": "stream",
     "text": [
      "['iris.csv']\n"
     ]
    }
   ],
   "source": [
    "# Raw Iris dataset saved\n",
    "import os\n",
    "\n",
    "# List files in the directory\n",
    "print(os.listdir('data/raw'))\n"
   ]
  },
  {
   "cell_type": "markdown",
   "metadata": {},
   "source": [
    "# Extract features\n",
    "\n",
    "- `src/stages/featurize.py`"
   ]
  },
  {
   "cell_type": "code",
   "execution_count": 4,
   "metadata": {
    "ExecuteTime": {
     "end_time": "2020-10-25T10:27:58.106025Z",
     "start_time": "2020-10-25T10:27:57.536929Z"
    }
   },
   "outputs": [
    {
     "name": "stdout",
     "output_type": "stream",
     "text": [
      "2024-10-10 16:31:30,555 — FEATURIZE — INFO — Load raw data\n",
      "2024-10-10 16:31:30,560 — FEATURIZE — INFO — Extract features\n",
      "2024-10-10 16:31:30,562 — FEATURIZE — INFO — Save features\n"
     ]
    }
   ],
   "source": [
    "!python src/stages/featurize.py --config=params.yaml"
   ]
  },
  {
   "cell_type": "code",
   "execution_count": 7,
   "metadata": {
    "ExecuteTime": {
     "end_time": "2020-10-25T10:28:17.731605Z",
     "start_time": "2020-10-25T10:28:17.583424Z"
    }
   },
   "outputs": [
    {
     "name": "stdout",
     "output_type": "stream",
     "text": [
      "['featured_iris.csv', 'test_iris.csv', 'train_iris.csv']\n"
     ]
    }
   ],
   "source": [
    "# Features.csv file has created\n",
    "print(os.listdir('data/processed'))"
   ]
  },
  {
   "cell_type": "markdown",
   "metadata": {},
   "source": [
    "# Split train/test dataset\n",
    "\n",
    "- `src/stages/data_split.py`"
   ]
  },
  {
   "cell_type": "code",
   "execution_count": 8,
   "metadata": {
    "ExecuteTime": {
     "end_time": "2020-10-25T10:28:44.583664Z",
     "start_time": "2020-10-25T10:28:43.317296Z"
    }
   },
   "outputs": [
    {
     "name": "stdout",
     "output_type": "stream",
     "text": [
      "2024-10-10 16:31:53,229 — DATA_SPLIT — INFO — Load features\n",
      "2024-10-10 16:31:53,232 — DATA_SPLIT — INFO — Split features into train and test sets\n",
      "2024-10-10 16:31:53,234 — DATA_SPLIT — INFO — Save train and test sets\n"
     ]
    }
   ],
   "source": [
    "!python src/stages/data_split.py --config=params.yaml"
   ]
  },
  {
   "cell_type": "code",
   "execution_count": 10,
   "metadata": {
    "ExecuteTime": {
     "end_time": "2020-10-25T10:29:28.643417Z",
     "start_time": "2020-10-25T10:29:28.499675Z"
    }
   },
   "outputs": [
    {
     "name": "stdout",
     "output_type": "stream",
     "text": [
      "['featured_iris.csv', 'test_iris.csv', 'train_iris.csv']\n"
     ]
    }
   ],
   "source": [
    "# Train and Test datsets have created\n",
    "print(os.listdir('data/processed/'))\n"
   ]
  },
  {
   "cell_type": "markdown",
   "metadata": {},
   "source": [
    "# Train model\n",
    "\n",
    "- `src/stages/train.py`"
   ]
  },
  {
   "cell_type": "code",
   "execution_count": 11,
   "metadata": {
    "ExecuteTime": {
     "end_time": "2020-10-25T10:29:33.151932Z",
     "start_time": "2020-10-25T10:29:32.010967Z"
    }
   },
   "outputs": [
    {
     "name": "stdout",
     "output_type": "stream",
     "text": [
      "2024-10-10 16:32:16,192 — TRAIN — INFO — Get estimator name\n",
      "2024-10-10 16:32:16,193 — TRAIN — INFO — Estimator: logreg\n",
      "2024-10-10 16:32:16,193 — TRAIN — INFO — Load train dataset\n",
      "2024-10-10 16:32:16,195 — TRAIN — INFO — Train model\n",
      "Fitting 3 folds for each of 1 candidates, totalling 3 fits\n",
      "2024-10-10 16:32:16,224 — TRAIN — INFO — Best score: 0.857564307288572\n",
      "2024-10-10 16:32:16,224 — TRAIN — INFO — Save model\n"
     ]
    },
    {
     "name": "stderr",
     "output_type": "stream",
     "text": [
      "d:\\Users\\st_cong\\conda\\dvc\\Lib\\site-packages\\sklearn\\linear_model\\_logistic.py:1247: FutureWarning: 'multi_class' was deprecated in version 1.5 and will be removed in 1.7. From then on, it will always use 'multinomial'. Leave it to its default value to avoid this warning.\n",
      "  warnings.warn(\n",
      "d:\\Users\\st_cong\\conda\\dvc\\Lib\\site-packages\\sklearn\\linear_model\\_logistic.py:1247: FutureWarning: 'multi_class' was deprecated in version 1.5 and will be removed in 1.7. From then on, it will always use 'multinomial'. Leave it to its default value to avoid this warning.\n",
      "  warnings.warn(\n",
      "d:\\Users\\st_cong\\conda\\dvc\\Lib\\site-packages\\sklearn\\linear_model\\_logistic.py:1247: FutureWarning: 'multi_class' was deprecated in version 1.5 and will be removed in 1.7. From then on, it will always use 'multinomial'. Leave it to its default value to avoid this warning.\n",
      "  warnings.warn(\n",
      "d:\\Users\\st_cong\\conda\\dvc\\Lib\\site-packages\\sklearn\\linear_model\\_logistic.py:1247: FutureWarning: 'multi_class' was deprecated in version 1.5 and will be removed in 1.7. From then on, it will always use 'multinomial'. Leave it to its default value to avoid this warning.\n",
      "  warnings.warn(\n"
     ]
    }
   ],
   "source": [
    "!python src/stages/train.py --config=params.yaml"
   ]
  },
  {
   "cell_type": "code",
   "execution_count": 12,
   "metadata": {},
   "outputs": [
    {
     "name": "stdout",
     "output_type": "stream",
     "text": [
      "['.gitkeep', 'model.joblib']\n"
     ]
    }
   ],
   "source": [
    "# model is created\n",
    "print(os.listdir('models/'))"
   ]
  },
  {
   "cell_type": "markdown",
   "metadata": {},
   "source": [
    "# Evaluate model \n",
    "\n",
    "- `src/stages/evaluate.py`"
   ]
  },
  {
   "cell_type": "code",
   "execution_count": 13,
   "metadata": {
    "ExecuteTime": {
     "end_time": "2020-10-25T10:38:10.201770Z",
     "start_time": "2020-10-25T10:38:07.719011Z"
    }
   },
   "outputs": [
    {
     "name": "stdout",
     "output_type": "stream",
     "text": [
      "2024-10-10 16:32:32,270 — EVALUATE — INFO — Load model\n",
      "2024-10-10 16:32:32,336 — EVALUATE — INFO — Load test dataset\n",
      "2024-10-10 16:32:32,339 — EVALUATE — INFO — Evaluate (build report)\n",
      "2024-10-10 16:32:32,343 — EVALUATE — INFO — Save metrics\n",
      "2024-10-10 16:32:32,343 — EVALUATE — INFO — F1 metrics file saved to : reports\\metrics.json\n",
      "2024-10-10 16:32:32,343 — EVALUATE — INFO — Save confusion matrix\n",
      "2024-10-10 16:32:33,061 — EVALUATE — INFO — Confusion matrix saved to : reports\\confusion_matrix.png\n"
     ]
    }
   ],
   "source": [
    "!python src/stages/evaluate.py --config=params.yaml"
   ]
  },
  {
   "cell_type": "code",
   "execution_count": 14,
   "metadata": {
    "ExecuteTime": {
     "end_time": "2020-10-25T10:38:11.927396Z",
     "start_time": "2020-10-25T10:38:11.786458Z"
    }
   },
   "outputs": [
    {
     "name": "stdout",
     "output_type": "stream",
     "text": [
      "['confusion_matrix.png', 'metrics.json']\n"
     ]
    }
   ],
   "source": [
    "# metrics file metrics.json is created\n",
    "print(os.listdir('reports/'))"
   ]
  },
  {
   "cell_type": "code",
   "execution_count": 16,
   "metadata": {
    "ExecuteTime": {
     "end_time": "2020-10-25T10:38:19.458249Z",
     "start_time": "2020-10-25T10:38:19.323808Z"
    }
   },
   "outputs": [
    {
     "name": "stdout",
     "output_type": "stream",
     "text": [
      "{\"f1_score\": 0.9305555555555555}\n"
     ]
    }
   ],
   "source": [
    "with open('reports/metrics.json') as f:\n",
    "    print(f.read())"
   ]
  },
  {
   "cell_type": "code",
   "execution_count": 17,
   "metadata": {
    "ExecuteTime": {
     "end_time": "2020-10-25T10:38:51.059334Z",
     "start_time": "2020-10-25T10:38:51.043192Z"
    }
   },
   "outputs": [
    {
     "data": {
      "image/png": "[encoded data removed]",
      "text/plain": [
       "<IPython.core.display.Image object>"
      ]
     },
     "execution_count": 17,
     "metadata": {},
     "output_type": "execute_result"
    }
   ],
   "source": [
    "# Display confusion matrix\n",
    "\n",
    "from IPython.display import Image\n",
    "Image('reports/confusion_matrix.png')"
   ]
  }
 ],
 "metadata": {
  "kernelspec": {
   "display_name": "Python 3",
   "language": "python",
   "name": "python3"
  },
  "language_info": {
   "codemirror_mode": {
    "name": "ipython",
    "version": 3
   },
   "file_extension": ".py",
   "mimetype": "text/x-python",
   "name": "python",
   "nbconvert_exporter": "python",
   "pygments_lexer": "ipython3",
   "version": "3.12.7"
  },
  "toc": {
   "base_numbering": 1,
   "nav_menu": {},
   "number_sections": true,
   "sideBar": true,
   "skip_h1_title": false,
   "title_cell": "Table of Contents",
   "title_sidebar": "Contents",
   "toc_cell": false,
   "toc_position": {},
   "toc_section_display": true,
   "toc_window_display": true
  },
  "varInspector": {
   "cols": {
    "lenName": 16,
    "lenType": 16,
    "lenVar": 40
   },
   "kernels_config": {
    "python": {
     "delete_cmd_postfix": "",
     "delete_cmd_prefix": "del ",
     "library": "var_list.py",
     "varRefreshCmd": "print(var_dic_list())"
    },
    "r": {
     "delete_cmd_postfix": ") ",
     "delete_cmd_prefix": "rm(",
     "library": "var_list.r",
     "varRefreshCmd": "cat(var_dic_list()) "
    }
   },
   "types_to_exclude": [
    "module",
    "function",
    "builtin_function_or_method",
    "instance",
    "_Feature"
   ],
   "window_display": false
  }
 },
 "nbformat": 4,
 "nbformat_minor": 4
}
