{
 "cells": [
  {
   "cell_type": "markdown",
   "metadata": {},
   "source": [
    "# About"
   ]
  },
  {
   "cell_type": "code",
   "execution_count": 1,
   "metadata": {},
   "outputs": [
    {
     "name": "stdout",
     "output_type": "stream",
     "text": [
      "d:\\MLOps\\Hands_on\\DVC\\DVC\n"
     ]
    }
   ],
   "source": [
    "# Set the repository root as a working directory \n",
    "%cd .."
   ]
  },
  {
   "cell_type": "code",
   "execution_count": 25,
   "metadata": {},
   "outputs": [
    {
     "name": "stdout",
     "output_type": "stream",
     "text": [
      "Update dvc.yaml\n"
     ]
    }
   ],
   "source": [
    "import yaml\n",
    "\n",
    "dvc_yaml = 'dvc.yaml'\n",
    "\n",
    "with open(dvc_yaml, \"r\") as f:\n",
    "    config = yaml.safe_load(f)\n",
    "\n",
    "\n",
    "config['stages']['evaluate'].update({\n",
    "  'metrics': [{'reports/metrics.json':{'cache':False}}],\n",
    "  'outs': ['reports/confusion_matrix.png']\n",
    "})\n",
    "\n",
    "with open(dvc_yaml, \"w\") as f:\n",
    "    yaml.safe_dump(config, f)\n",
    "print('Update dvc.yaml')"
   ]
  },
  {
   "cell_type": "code",
   "execution_count": 41,
   "metadata": {},
   "outputs": [
    {
     "name": "stdout",
     "output_type": "stream",
     "text": [
      "Running stage 'data_load':\n",
      "> python src/stages/data_load.py --config=params.yaml\n",
      "2024-10-14 09:37:11,117 — DATA_LOAD — INFO — Get dataset\n",
      "2024-10-14 09:37:11,123 — DATA_LOAD — INFO — Save raw data\n",
      "\n",
      "Running stage 'featurize':\n",
      "> python src/stages/featurize.py --config=params.yaml\n",
      "2024-10-14 09:37:12,129 — FEATURIZE — INFO — Load raw data\n",
      "2024-10-14 09:37:12,134 — FEATURIZE — INFO — Extract features\n",
      "2024-10-14 09:37:12,136 — FEATURIZE — INFO — Save features\n",
      "\n",
      "Running stage 'data_split':\n",
      "> python src/stages/data_split.py --config=params.yaml\n",
      "2024-10-14 09:37:13,814 — DATA_SPLIT — INFO — Load features\n",
      "2024-10-14 09:37:13,818 — DATA_SPLIT — INFO — Split features into train and test sets\n",
      "2024-10-14 09:37:13,819 — DATA_SPLIT — INFO — Save train and test sets\n",
      "\n",
      "Running stage 'train':\n",
      "> python src/stages/train.py --config=params.yaml\n",
      "2024-10-14 09:37:15,719 — TRAIN — INFO — Get estimator name\n",
      "2024-10-14 09:37:15,719 — TRAIN — INFO — Estimator: logreg\n",
      "2024-10-14 09:37:15,719 — TRAIN — INFO — Load train dataset\n",
      "2024-10-14 09:37:15,722 — TRAIN — INFO — Train model\n",
      "Fitting 3 folds for each of 1 candidates, totalling 3 fits\n",
      "2024-10-14 09:37:15,740 — TRAIN — INFO — Best score: 0.857564307288572\n",
      "2024-10-14 09:37:15,740 — TRAIN — INFO — Save model\n",
      "Updating lock file 'dvc.lock'\n",
      "\n",
      "Running stage 'evaluate':\n",
      "> python src/stages/evaluate.py --config=params.yaml\n",
      "2024-10-14 09:37:18,139 — EVALUATE — INFO — Load model\n",
      "2024-10-14 09:37:18,193 — EVALUATE — INFO — Load test dataset\n",
      "2024-10-14 09:37:18,195 — EVALUATE — INFO — Evaluate (build report)\n",
      "2024-10-14 09:37:18,201 — EVALUATE — INFO — Save metrics\n",
      "2024-10-14 09:37:18,201 — EVALUATE — INFO — F1 metrics file saved to : reports\\metrics.json\n",
      "2024-10-14 09:37:18,202 — EVALUATE — INFO — Save confusion matrix\n",
      "2024-10-14 09:37:18,936 — EVALUATE — INFO — Confusion matrix saved to : reports\\confusion_matrix.png\n",
      "Updating lock file 'dvc.lock'\n",
      "\n",
      "To track the changes with git, run:\n",
      "\n",
      "\tgit add dvc.lock 'reports\\.gitignore'\n",
      "\n",
      "To enable auto staging, run:\n",
      "\n",
      "\tdvc config core.autostage true\n",
      "Use `dvc push` to send your updates to remote storage.\n"
     ]
    }
   ],
   "source": [
    "!dvc repro "
   ]
  },
  {
   "cell_type": "code",
   "execution_count": 43,
   "metadata": {},
   "outputs": [
    {
     "name": "stdout",
     "output_type": "stream",
     "text": [
      "Path                  f1_score\n",
      "reports\\metrics.json  0.93056\n"
     ]
    }
   ],
   "source": [
    "!dvc metrics show"
   ]
  },
  {
   "cell_type": "code",
   "execution_count": 42,
   "metadata": {},
   "outputs": [
    {
     "name": "stdout",
     "output_type": "stream",
     "text": [
      "Path                  Metric    HEAD    workspace    Change\n",
      "reports\\metrics.json  f1_score  -       0.93056      -\n"
     ]
    }
   ],
   "source": [
    "!dvc metrics diff"
   ]
  },
  {
   "cell_type": "code",
   "execution_count": 33,
   "metadata": {},
   "outputs": [
    {
     "name": "stdout",
     "output_type": "stream",
     "text": [
      "1 file pushed\n"
     ]
    }
   ],
   "source": [
    "!git add dvc.lock\n",
    "!dvc push"
   ]
  },
  {
   "cell_type": "markdown",
   "metadata": {},
   "source": [
    "# Simple metric tracking with DVC\n",
    "\n"
   ]
  },
  {
   "cell_type": "code",
   "execution_count": 50,
   "metadata": {},
   "outputs": [
    {
     "name": "stdout",
     "output_type": "stream",
     "text": [
      "Update params.yaml\n"
     ]
    }
   ],
   "source": [
    "params_yaml = 'params.yaml'\n",
    "\n",
    "with open(params_yaml, \"r\") as f:\n",
    "    config = yaml.safe_load(f)\n",
    "\n",
    "\n",
    "config['train'].update({\n",
    "  'cv': 5,\n",
    "  'estimator_name': 'svm',\n",
    "})\n",
    "\n",
    "with open(params_yaml, \"w\") as f:\n",
    "    yaml.safe_dump(config, f)\n",
    "print('Update params.yaml')"
   ]
  },
  {
   "cell_type": "code",
   "execution_count": 51,
   "metadata": {},
   "outputs": [
    {
     "name": "stdout",
     "output_type": "stream",
     "text": [
      "Stage 'data_load' didn't change, skipping\n",
      "Stage 'featurize' didn't change, skipping\n",
      "Stage 'data_split' didn't change, skipping\n",
      "Running stage 'train':\n",
      "> python src/stages/train.py --config=params.yaml\n",
      "2024-10-14 09:45:30,836 — TRAIN — INFO — Get estimator name\n",
      "2024-10-14 09:45:30,836 — TRAIN — INFO — Estimator: svm\n",
      "2024-10-14 09:45:30,836 — TRAIN — INFO — Load train dataset\n",
      "2024-10-14 09:45:30,839 — TRAIN — INFO — Train model\n",
      "Fitting 5 folds for each of 8 candidates, totalling 40 fits\n",
      "2024-10-14 09:45:30,955 — TRAIN — INFO — Best score: 0.9644444444444445\n",
      "2024-10-14 09:45:30,955 — TRAIN — INFO — Save model\n",
      "Updating lock file 'dvc.lock'\n",
      "\n",
      "Running stage 'evaluate':\n",
      "> python src/stages/evaluate.py --config=params.yaml\n",
      "2024-10-14 09:45:33,334 — EVALUATE — INFO — Load model\n",
      "2024-10-14 09:45:33,384 — EVALUATE — INFO — Load test dataset\n",
      "2024-10-14 09:45:33,386 — EVALUATE — INFO — Evaluate (build report)\n",
      "2024-10-14 09:45:33,389 — EVALUATE — INFO — Save metrics\n",
      "2024-10-14 09:45:33,390 — EVALUATE — INFO — F1 metrics file saved to : reports\\metrics.json\n",
      "2024-10-14 09:45:33,390 — EVALUATE — INFO — Save confusion matrix\n",
      "2024-10-14 09:45:33,964 — EVALUATE — INFO — Confusion matrix saved to : reports\\confusion_matrix.png\n",
      "Updating lock file 'dvc.lock'\n",
      "\n",
      "To track the changes with git, run:\n",
      "\n",
      "\tgit add dvc.lock\n",
      "\n",
      "To enable auto staging, run:\n",
      "\n",
      "\tdvc config core.autostage true\n",
      "Use `dvc push` to send your updates to remote storage.\n"
     ]
    }
   ],
   "source": [
    "!dvc repro "
   ]
  },
  {
   "cell_type": "code",
   "execution_count": 52,
   "metadata": {},
   "outputs": [
    {
     "name": "stdout",
     "output_type": "stream",
     "text": [
      "Path                  f1_score\n",
      "reports\\metrics.json  1.0\n"
     ]
    }
   ],
   "source": [
    "!dvc metrics show "
   ]
  },
  {
   "cell_type": "code",
   "execution_count": 53,
   "metadata": {},
   "outputs": [
    {
     "name": "stdout",
     "output_type": "stream",
     "text": [
      "Path                  Metric    HEAD     workspace    Change\n",
      "reports\\metrics.json  f1_score  0.93056  1.0          0.06944\n"
     ]
    }
   ],
   "source": [
    "!dvc metrics diff"
   ]
  },
  {
   "cell_type": "code",
   "execution_count": 54,
   "metadata": {},
   "outputs": [
    {
     "name": "stdout",
     "output_type": "stream",
     "text": [
      "Path         Param                 HEAD    workspace\n",
      "params.yaml  train.cv              3       5\n",
      "params.yaml  train.estimator_name  logreg  svm\n"
     ]
    }
   ],
   "source": [
    "!dvc params diff"
   ]
  },
  {
   "cell_type": "markdown",
   "metadata": {},
   "source": [
    "# Add plots\n",
    "\n",
    "Artifact `reports/cm_plot.csv` represents csv format of DVC plot metrics. DVC provides building plots by plot metrics files.\n",
    "\n",
    "To make artifact plot metrics file move `reports/cm_plot.csv` from `outs` to `plots` section (like with metrics):\n",
    "\n",
    "\n",
    "`dvc.yaml`\n",
    "```yaml\n",
    "...\n",
    "evaluate:\n",
    "    cmd: python src/stages/evaluate.py --config=params.yaml\n",
    "    deps:\n",
    "    - data/processed/test_iris.csv\n",
    "    - models/model.joblib\n",
    "    - src/stages/evaluate.py\n",
    "    params:\n",
    "    - base\n",
    "    - data_split.testset_path\n",
    "    - evaluate\n",
    "    - featurize.target_column\n",
    "    metrics:\n",
    "    - reports/metrics.json:\n",
    "        cache: false\n",
    "    plots:\n",
    "    - reports/cm_plot.csv:\n",
    "        cache: false\n",
    "    outs:\n",
    "    - reports/confusion_matrix.png\n",
    "```"
   ]
  },
  {
   "cell_type": "code",
   "execution_count": 65,
   "metadata": {},
   "outputs": [
    {
     "name": "stdout",
     "output_type": "stream",
     "text": [
      "Update params.yaml\n"
     ]
    }
   ],
   "source": [
    "params_yaml = 'params.yaml'\n",
    "\n",
    "with open(params_yaml, \"r\") as f:\n",
    "    config = yaml.safe_load(f)\n",
    "\n",
    "\n",
    "config['evaluate'].update({\n",
    "  'confusion_matrix_data': 'cm_plot.csv',\n",
    "})\n",
    "\n",
    "with open(params_yaml, \"w\") as f:\n",
    "    yaml.safe_dump(config, f)\n",
    "print('Update params.yaml')"
   ]
  },
  {
   "cell_type": "code",
   "execution_count": 62,
   "metadata": {},
   "outputs": [
    {
     "name": "stdout",
     "output_type": "stream",
     "text": [
      "Update dvc.yaml\n"
     ]
    }
   ],
   "source": [
    "dvc_yaml = 'dvc.yaml'\n",
    "\n",
    "with open(dvc_yaml, \"r\") as f:\n",
    "    config = yaml.safe_load(f)\n",
    "\n",
    "\n",
    "config['stages']['evaluate'].update({\n",
    "  'plots': [{'reports/cm_plot.csv':{'cache':False}}],\n",
    "  'outs': ['reports/confusion_matrix.png']\n",
    "})\n",
    "\n",
    "with open(dvc_yaml, \"w\") as f:\n",
    "    yaml.safe_dump(config, f)\n",
    "print('Update dvc.yaml')"
   ]
  },
  {
   "cell_type": "code",
   "execution_count": 64,
   "metadata": {},
   "outputs": [
    {
     "name": "stdout",
     "output_type": "stream",
     "text": [
      "Running stage 'data_load':\n",
      "> python src/stages/data_load.py --config=params.yaml\n",
      "2024-10-14 10:19:02,823 — DATA_LOAD — INFO — Get dataset\n",
      "2024-10-14 10:19:02,830 — DATA_LOAD — INFO — Save raw data\n",
      "\n",
      "Running stage 'featurize':\n",
      "> python src/stages/featurize.py --config=params.yaml\n",
      "2024-10-14 10:19:03,668 — FEATURIZE — INFO — Load raw data\n",
      "2024-10-14 10:19:03,671 — FEATURIZE — INFO — Extract features\n",
      "2024-10-14 10:19:03,672 — FEATURIZE — INFO — Save features\n",
      "\n",
      "Running stage 'data_split':\n",
      "> python src/stages/data_split.py --config=params.yaml\n",
      "2024-10-14 10:19:05,184 — DATA_SPLIT — INFO — Load features\n",
      "2024-10-14 10:19:05,187 — DATA_SPLIT — INFO — Split features into train and test sets\n",
      "2024-10-14 10:19:05,188 — DATA_SPLIT — INFO — Save train and test sets\n",
      "\n",
      "Running stage 'train':\n",
      "> python src/stages/train.py --config=params.yaml\n",
      "2024-10-14 10:19:07,174 — TRAIN — INFO — Get estimator name\n",
      "2024-10-14 10:19:07,174 — TRAIN — INFO — Estimator: svm\n",
      "2024-10-14 10:19:07,174 — TRAIN — INFO — Load train dataset\n",
      "2024-10-14 10:19:07,178 — TRAIN — INFO — Train model\n",
      "Fitting 5 folds for each of 8 candidates, totalling 40 fits\n",
      "2024-10-14 10:19:07,285 — TRAIN — INFO — Best score: 0.9644444444444445\n",
      "2024-10-14 10:19:07,285 — TRAIN — INFO — Save model\n",
      "Updating lock file 'dvc.lock'\n",
      "\n",
      "Running stage 'evaluate':\n",
      "> python src/stages/evaluate.py --config=params.yaml\n",
      "2024-10-14 10:19:09,810 — EVALUATE — INFO — Load model\n",
      "2024-10-14 10:19:09,855 — EVALUATE — INFO — Load test dataset\n",
      "2024-10-14 10:19:09,858 — EVALUATE — INFO — Evaluate (build report)\n",
      "2024-10-14 10:19:09,867 — EVALUATE — INFO — Save metrics\n",
      "2024-10-14 10:19:09,868 — EVALUATE — INFO — F1 metrics file saved to : reports\\metrics.json\n",
      "2024-10-14 10:19:09,868 — EVALUATE — INFO — Save confusion matrix\n",
      "2024-10-14 10:19:10,435 — EVALUATE — INFO — Confusion matrix saved to : reports\\confusion_matrix.png\n",
      "2024-10-14 10:19:10,437 — EVALUATE — INFO — Confusion matrix data saved to : reports\\cm_plot.csv\n",
      "Updating lock file 'dvc.lock'\n",
      "\n",
      "To track the changes with git, run:\n",
      "\n",
      "\tgit add dvc.lock\n",
      "\n",
      "To enable auto staging, run:\n",
      "\n",
      "\tdvc config core.autostage true\n",
      "Use `dvc push` to send your updates to remote storage.\n"
     ]
    }
   ],
   "source": [
    "!dvc repro -f"
   ]
  },
  {
   "cell_type": "code",
   "execution_count": 66,
   "metadata": {},
   "outputs": [
    {
     "name": "stdout",
     "output_type": "stream",
     "text": [
      "file:///D:/MLOps/Hands_on/DVC/DVC/dvc_plots/index.html\n"
     ]
    }
   ],
   "source": [
    "!dvc plots show"
   ]
  },
  {
   "cell_type": "code",
   "execution_count": 67,
   "metadata": {},
   "outputs": [
    {
     "name": "stdout",
     "output_type": "stream",
     "text": [
      "file:///D:/MLOps/Hands_on/DVC/DVC/dvc_plots/index.html\n"
     ]
    }
   ],
   "source": [
    "!dvc plots diff"
   ]
  },
  {
   "cell_type": "markdown",
   "metadata": {},
   "source": [
    "# Experiment 1 - Tune LogisticRegression"
   ]
  },
  {
   "cell_type": "markdown",
   "metadata": {},
   "source": [
    "## Create and run exeperiment\n",
    "\n",
    "\n",
    "Create experiment and change parameter - add options for **C** hyperparamter in section `train:estimators:logreg:param_grid`:\n",
    "\n"
   ]
  },
  {
   "cell_type": "code",
   "execution_count": 80,
   "metadata": {},
   "outputs": [
    {
     "name": "stdout",
     "output_type": "stream",
     "text": [
      "Reproducing experiment 'exp1-tune-logreg'\n",
      "Running stage 'data_load':\n",
      "> python src/stages/data_load.py --config=params.yaml\n",
      "2024-10-14 10:39:38,356 — DATA_LOAD — INFO — Get dataset\n",
      "2024-10-14 10:39:38,361 — DATA_LOAD — INFO — Save raw data\n",
      "\n",
      "Running stage 'featurize':\n",
      "> python src/stages/featurize.py --config=params.yaml\n",
      "2024-10-14 10:39:39,237 — FEATURIZE — INFO — Load raw data\n",
      "2024-10-14 10:39:39,240 — FEATURIZE — INFO — Extract features\n",
      "2024-10-14 10:39:39,242 — FEATURIZE — INFO — Save features\n",
      "\n",
      "Running stage 'data_split':\n",
      "> python src/stages/data_split.py --config=params.yaml\n",
      "2024-10-14 10:39:40,888 — DATA_SPLIT — INFO — Load features\n",
      "2024-10-14 10:39:40,891 — DATA_SPLIT — INFO — Split features into train and test sets\n",
      "2024-10-14 10:39:40,893 — DATA_SPLIT — INFO — Save train and test sets\n",
      "\n",
      "Running stage 'train':\n",
      "> python src/stages/train.py --config=params.yaml\n",
      "2024-10-14 10:39:42,573 — TRAIN — INFO — Get estimator name\n",
      "2024-10-14 10:39:42,574 — TRAIN — INFO — Estimator: logreg\n",
      "2024-10-14 10:39:42,574 — TRAIN — INFO — Load train dataset\n",
      "2024-10-14 10:39:42,576 — TRAIN — INFO — Train model\n",
      "Fitting 3 folds for each of 3 candidates, totalling 9 fits\n",
      "2024-10-14 10:39:42,727 — TRAIN — INFO — Best score: 0.9580911025968497\n",
      "2024-10-14 10:39:42,727 — TRAIN — INFO — Save model\n",
      "Updating lock file 'dvc.lock'\n",
      "\n",
      "Running stage 'evaluate':\n",
      "> python src/stages/evaluate.py --config=params.yaml\n",
      "2024-10-14 10:39:44,962 — EVALUATE — INFO — Load model\n",
      "2024-10-14 10:39:45,010 — EVALUATE — INFO — Load test dataset\n",
      "2024-10-14 10:39:45,012 — EVALUATE — INFO — Evaluate (build report)\n",
      "2024-10-14 10:39:45,020 — EVALUATE — INFO — Save metrics\n",
      "2024-10-14 10:39:45,020 — EVALUATE — INFO — F1 metrics file saved to : reports\\metrics.json\n",
      "2024-10-14 10:39:45,021 — EVALUATE — INFO — Save confusion matrix\n",
      "2024-10-14 10:39:45,552 — EVALUATE — INFO — Confusion matrix saved to : reports\\confusion_matrix.png\n",
      "2024-10-14 10:39:45,555 — EVALUATE — INFO — Confusion matrix data saved to : reports\\cm_plot.csv\n",
      "Updating lock file 'dvc.lock'\n",
      "\n",
      "Ran experiment(s): exp1-tune-logreg\n",
      "Experiment results have been applied to your workspace.\n"
     ]
    },
    {
     "name": "stderr",
     "output_type": "stream",
     "text": [
      "WARNING: No file hash info found for 'd:\\MLOps\\Hands_on\\DVC\\DVC\\models\\model.joblib'. It won't be created.\n",
      "WARNING: No file hash info found for 'd:\\MLOps\\Hands_on\\DVC\\DVC\\reports\\confusion_matrix.png'. It won't be created.\n"
     ]
    }
   ],
   "source": [
    "!dvc exp run -n exp1-tune-logreg -f \\\n",
    "    --set-param train.estimators.logreg.param_grid.C=[0.1,1.0,10] \\\n",
    "    --set-param train.estimators.logreg.param_grid.max_iter=[200]"
   ]
  },
  {
   "cell_type": "markdown",
   "metadata": {},
   "source": [
    "\n",
    "as result you should have LogisticRegression config:\n",
    "\n",
    "```yaml\n",
    "...\n",
    "train:\n",
    "  cv: 3\n",
    "  estimator_name: logreg\n",
    "\n",
    "  estimators:\n",
    "\n",
    "    logreg: # sklearn.linear_model.LogisticRegression\n",
    "      param_grid: # params of GridSearchCV constructor\n",
    "        C:\n",
    "        - 0.1\n",
    "        - 1.0\n",
    "        - 10\n",
    "        max_iter: [100]\n",
    "        solver: [lbfgs]\n",
    "        multi_class: [multinomial]\n",
    "...\n",
    "\n",
    "```\n"
   ]
  },
  {
   "cell_type": "markdown",
   "metadata": {},
   "source": [
    "## Commit experiment results"
   ]
  },
  {
   "cell_type": "code",
   "execution_count": 82,
   "metadata": {},
   "outputs": [
    {
     "name": "stderr",
     "output_type": "stream",
     "text": [
      "warning: in the working copy of 'notebooks/step-0-prototype.ipynb', LF will be replaced by CRLF the next time Git touches it\n",
      "warning: in the working copy of 'notebooks/step-1-organize-ml-project.ipynb', LF will be replaced by CRLF the next time Git touches it\n",
      "warning: in the working copy of 'notebooks/step-2-create-config-file.ipynb', LF will be replaced by CRLF the next time Git touches it\n",
      "warning: in the working copy of 'notebooks/step-3-reusable-code.ipynb', LF will be replaced by CRLF the next time Git touches it\n",
      "warning: in the working copy of 'notebooks/step-4-build-ml-pipeline.ipynb', LF will be replaced by CRLF the next time Git touches it\n",
      "warning: in the working copy of 'notebooks/step-5-automate-ml-pipeline.ipynb', LF will be replaced by CRLF the next time Git touches it\n",
      "warning: in the working copy of 'notebooks/step-6-data-and-model-version-control.ipynb', LF will be replaced by CRLF the next time Git touches it\n",
      "warning: in the working copy of 'notebooks/step-7-metrics-and-experiments.ipynb', LF will be replaced by CRLF the next time Git touches it\n",
      "warning: in the working copy of 'src/stages/data_load.py', LF will be replaced by CRLF the next time Git touches it\n",
      "warning: in the working copy of 'src/stages/data_split.py', LF will be replaced by CRLF the next time Git touches it\n",
      "warning: in the working copy of 'src/stages/featurize.py', LF will be replaced by CRLF the next time Git touches it\n",
      "warning: in the working copy of 'src/stages/train.py', LF will be replaced by CRLF the next time Git touches it\n"
     ]
    },
    {
     "name": "stdout",
     "output_type": "stream",
     "text": [
      "[main b91bb98] Experiment 1 with LogisticRegression hyperparameters\n",
      " 2 files changed, 12 insertions(+), 12 deletions(-)\n"
     ]
    },
    {
     "name": "stderr",
     "output_type": "stream",
     "text": [
      "fatal: tag 'exp1_tune_logreg' already exists\n"
     ]
    },
    {
     "name": "stdout",
     "output_type": "stream",
     "text": [
      "1 file pushed\n"
     ]
    }
   ],
   "source": [
    "!git add .\n",
    "!git commit -m \"Experiment 1 with LogisticRegression hyperparameters\"\n",
    "!git tag -a \"exp1_tune_logreg\" -m \"Experiment 1 with LogisticRegression hyperparameters\"\n",
    "!dvc push"
   ]
  },
  {
   "cell_type": "markdown",
   "metadata": {},
   "source": [
    "## Show metrics "
   ]
  },
  {
   "cell_type": "code",
   "execution_count": 83,
   "metadata": {},
   "outputs": [
    {
     "name": "stdout",
     "output_type": "stream",
     "text": [
      "Path                  f1_score\n",
      "reports\\metrics.json  1.0\n"
     ]
    }
   ],
   "source": [
    "!dvc metrics show\n"
   ]
  },
  {
   "cell_type": "markdown",
   "metadata": {},
   "source": [
    "# Experiment 2 - Use SVM"
   ]
  },
  {
   "cell_type": "markdown",
   "metadata": {},
   "source": [
    "## Create and run experiment\n",
    "\n",
    "in section `train` change:\n",
    "    - `estimator_name`\n",
    "    - change `estimators:svm:param_grid:C`\n",
    "\n"
   ]
  },
  {
   "cell_type": "code",
   "execution_count": 84,
   "metadata": {},
   "outputs": [
    {
     "name": "stdout",
     "output_type": "stream",
     "text": [
      "Reproducing experiment 'exp2-svm'\n",
      "Stage 'data_load' didn't change, skipping\n",
      "Stage 'featurize' didn't change, skipping\n",
      "Stage 'data_split' didn't change, skipping\n",
      "Running stage 'train':\n",
      "> python src/stages/train.py --config=params.yaml\n",
      "2024-10-14 10:41:04,151 — TRAIN — INFO — Get estimator name\n",
      "2024-10-14 10:41:04,151 — TRAIN — INFO — Estimator: svm\n",
      "2024-10-14 10:41:04,151 — TRAIN — INFO — Load train dataset\n",
      "2024-10-14 10:41:04,153 — TRAIN — INFO — Train model\n",
      "Fitting 3 folds for each of 12 candidates, totalling 36 fits\n",
      "2024-10-14 10:41:04,265 — TRAIN — INFO — Best score: 0.9580911025968497\n",
      "2024-10-14 10:41:04,265 — TRAIN — INFO — Save model\n",
      "Updating lock file 'dvc.lock'\n",
      "\n",
      "Running stage 'evaluate':\n",
      "> python src/stages/evaluate.py --config=params.yaml\n",
      "2024-10-14 10:41:06,600 — EVALUATE — INFO — Load model\n",
      "2024-10-14 10:41:06,652 — EVALUATE — INFO — Load test dataset\n",
      "2024-10-14 10:41:06,654 — EVALUATE — INFO — Evaluate (build report)\n",
      "2024-10-14 10:41:06,665 — EVALUATE — INFO — Save metrics\n",
      "2024-10-14 10:41:06,666 — EVALUATE — INFO — F1 metrics file saved to : reports\\metrics.json\n",
      "2024-10-14 10:41:06,666 — EVALUATE — INFO — Save confusion matrix\n",
      "2024-10-14 10:41:07,223 — EVALUATE — INFO — Confusion matrix saved to : reports\\confusion_matrix.png\n",
      "2024-10-14 10:41:07,226 — EVALUATE — INFO — Confusion matrix data saved to : reports\\cm_plot.csv\n",
      "Updating lock file 'dvc.lock'\n",
      "\n",
      "Ran experiment(s): exp2-svm\n",
      "Experiment results have been applied to your workspace.\n"
     ]
    }
   ],
   "source": [
    "!dvc exp run -n exp2-svm \\\n",
    "    --set-param train.estimator_name=svm \\\n",
    "    --set-param train.estimators.svm.param_grid.C=[0.1,1.0,10]"
   ]
  },
  {
   "cell_type": "markdown",
   "metadata": {},
   "source": [
    "\n",
    "\n",
    "as result you should have SVC config:\n",
    "\n",
    "```yaml\n",
    "...\n",
    "train:\n",
    "  cv: 3\n",
    "  estimator_name: svm\n",
    "  estimators:\n",
    "        \n",
    "    svm: # sklearn.svm.SVC\n",
    "      param_grid:\n",
    "        C:\n",
    "        - 0.1\n",
    "        - 1.0\n",
    "        - 10\n",
    "        kernel: [rbf, linear]\n",
    "        gamma: [scale]\n",
    "        degree: [3, 5]\n",
    "...\n",
    "```\n"
   ]
  },
  {
   "cell_type": "markdown",
   "metadata": {},
   "source": [
    "## Commit experiment results\n"
   ]
  },
  {
   "cell_type": "code",
   "execution_count": 85,
   "metadata": {},
   "outputs": [
    {
     "name": "stderr",
     "output_type": "stream",
     "text": [
      "warning: in the working copy of 'notebooks/step-0-prototype.ipynb', LF will be replaced by CRLF the next time Git touches it\n",
      "warning: in the working copy of 'notebooks/step-1-organize-ml-project.ipynb', LF will be replaced by CRLF the next time Git touches it\n",
      "warning: in the working copy of 'notebooks/step-2-create-config-file.ipynb', LF will be replaced by CRLF the next time Git touches it\n",
      "warning: in the working copy of 'notebooks/step-3-reusable-code.ipynb', LF will be replaced by CRLF the next time Git touches it\n",
      "warning: in the working copy of 'notebooks/step-4-build-ml-pipeline.ipynb', LF will be replaced by CRLF the next time Git touches it\n",
      "warning: in the working copy of 'notebooks/step-5-automate-ml-pipeline.ipynb', LF will be replaced by CRLF the next time Git touches it\n",
      "warning: in the working copy of 'notebooks/step-6-data-and-model-version-control.ipynb', LF will be replaced by CRLF the next time Git touches it\n",
      "warning: in the working copy of 'notebooks/step-7-metrics-and-experiments.ipynb', LF will be replaced by CRLF the next time Git touches it\n",
      "warning: in the working copy of 'src/stages/data_load.py', LF will be replaced by CRLF the next time Git touches it\n",
      "warning: in the working copy of 'src/stages/data_split.py', LF will be replaced by CRLF the next time Git touches it\n",
      "warning: in the working copy of 'src/stages/featurize.py', LF will be replaced by CRLF the next time Git touches it\n",
      "warning: in the working copy of 'src/stages/train.py', LF will be replaced by CRLF the next time Git touches it\n"
     ]
    },
    {
     "name": "stdout",
     "output_type": "stream",
     "text": [
      "[main f2ecaaa] Experiment 2 with SVM estimator\n",
      " 2 files changed, 10 insertions(+), 8 deletions(-)\n",
      "1 file pushed\n"
     ]
    }
   ],
   "source": [
    "!git add .\n",
    "!git commit -m \"Experiment 2 with SVM estimator\"\n",
    "!git tag -a \"exp2_svm\" -m \"Experiment 2 with SVM estimator\"\n",
    "!dvc push"
   ]
  },
  {
   "cell_type": "markdown",
   "metadata": {},
   "source": [
    "## Show metrics \n",
    "\n"
   ]
  },
  {
   "cell_type": "code",
   "execution_count": 86,
   "metadata": {},
   "outputs": [
    {
     "name": "stdout",
     "output_type": "stream",
     "text": [
      "Path                  f1_score\n",
      "reports\\metrics.json  1.0\n"
     ]
    }
   ],
   "source": [
    "!dvc metrics show"
   ]
  },
  {
   "cell_type": "markdown",
   "metadata": {},
   "source": [
    "# Compare experiments\n",
    "\n",
    "1. List experiments:\n",
    "\n",
    "```bash\n",
    "dvc exp list --all\n",
    "```\n",
    "```\n",
    "# output\n",
    "940fee6:                                                              \n",
    "        exp2-svm\n",
    "step-6:\n",
    "        exp1-tune-logreg\n",
    "\n",
    "```"
   ]
  },
  {
   "cell_type": "code",
   "execution_count": 117,
   "metadata": {},
   "outputs": [
    {
     "name": "stdout",
     "output_type": "stream",
     "text": [
      "10a6c91:\n",
      "\te5feb59 [exp1-tune-logreg]\n",
      "b91bb98:\n",
      "\t35b52eb [exp2-svm]\n",
      "exp1_tune_logreg:\n",
      "\tbfcd65a [exp1-tune-logreg]\n"
     ]
    }
   ],
   "source": [
    "!dvc exp list --all-commits"
   ]
  },
  {
   "cell_type": "markdown",
   "metadata": {},
   "source": [
    "\n",
    "\n",
    "2. Compare current experiments`:\n"
   ]
  },
  {
   "cell_type": "code",
   "execution_count": 119,
   "metadata": {},
   "outputs": [
    {
     "name": "stdout",
     "output_type": "stream",
     "text": [
      "\n",
      "Path         Param                                 10a6c91    exp1_tune_logreg    Change\n",
      "params.yaml  evaluate.confusion_matrix_data        -          cm_plot.csv         diff not supported\n",
      "params.yaml  train.cv                              3          5                   2\n",
      "params.yaml  train.estimator_name                  logreg     svm                 diff not supported\n",
      "params.yaml  train.estimators.logreg.param_grid.C  [0.001]    [0.1, 1.0, 10]      diff not supported\n"
     ]
    }
   ],
   "source": [
    "!dvc exp diff 10a6c91 exp1_tune_logreg"
   ]
  },
  {
   "cell_type": "code",
   "execution_count": 120,
   "metadata": {},
   "outputs": [
    {
     "name": "stdout",
     "output_type": "stream",
     "text": [
      " ──────────────────────────────────────────────────────────────────────────────────────────────────────────────────────────────────────────────────────────────────────────────────────────────────────────────────────────────────────────────────────────────────────────────────────────────────────────────────────────────────────────────────────────────────────────────────────────────────────────────────────────────────────────────────────────────────────────────────────────────────────────────────────────────────────────────────────────────────────────────────────────────────────────────────────────────────────────────────────────────────────────────────────────────────────────────────────────────────────────────────────────────────────────────────────────────────────────────────────────────────────────────────────────────────────────────────────────────────────────────────────────────────────────────────────────────────────────────────────────────────────────────────────────────────────────────────────────── \n",
      "  Experiment   Created    f1_score   base.log_level   base.random_state   data_load.dataset_csv   data_split.test_size   data_split.testset_path        data_split.trainset_path        evaluate.confusion_matrix_data   evaluate.confusion_matrix_image   evaluate.metrics_file   evaluate.reports_dir   featurize.features_path            featurize.target_column   train.cv   train.estimator_name   train.estimators.logreg.param_grid.C   train.estimators.logreg.param_grid.max_iter   train.estimators.logreg.param_grid.solver   train.estimators.svm.param_grid.C   train.estimators.svm.param_grid.degree   train.estimators.svm.param_grid.gamma   train.estimators.svm.param_grid.kernel   train.metrics_file   train.model_path      train.reports_dir   data\\processed\\featured_iris.csv   data\\processed\\test_iris.csv       data\\processed\\train_iris.csv      data\\raw\\iris.csv                  models\\model.joblib                params.yaml                        src\\stages\\data_load.py            src\\stages\\data_split.py          \n",
      " ──────────────────────────────────────────────────────────────────────────────────────────────────────────────────────────────────────────────────────────────────────────────────────────────────────────────────────────────────────────────────────────────────────────────────────────────────────────────────────────────────────────────────────────────────────────────────────────────────────────────────────────────────────────────────────────────────────────────────────────────────────────────────────────────────────────────────────────────────────────────────────────────────────────────────────────────────────────────────────────────────────────────────────────────────────────────────────────────────────────────────────────────────────────────────────────────────────────────────────────────────────────────────────────────────────────────────────────────────────────────────────────────────────────────────────────────────────────────────────────────────────────────────────────────────────────────────────────── \n",
      "  workspace    -                 1   INFO             42                  data/raw/iris.csv       0.2                    data/processed/test_iris.csv   data/processed/train_iris.csv   cm_plot.csv                      confusion_matrix.png              metrics.json            reports                data/processed/featured_iris.csv   target                    3          svm                    ['0.1', '1', 10]                       [200]                                         ['lbfgs']                                   ['0.1', '1', 10]                    [3, 5]                                   ['scale']                               ['rbf', 'linear']                        metrics.json         models/model.joblib   reports             e3623a87a01908f403ea7e6260094f57   8ca0a17f1b6f79dbdfdb598484633e1e   a2ec47f82aca318b8c0ff05879d1ee4f   10f5f61b137fa708403ea5c480386bfe   b50fab11ff6aee28db72d14e99320391   cd7f6529f8c4836e218dc724cf020ce3   f3169382505373ee5c5cc020b00a83b5   e5aaf6d196b0547783acf4b12ef8eafe  \n",
      "  main         10:41 AM          !   INFO             42                  data/raw/iris.csv       0.2                    data/processed/test_iris.csv   data/processed/train_iris.csv   cm_plot.csv                      confusion_matrix.png              metrics.json            reports                data/processed/featured_iris.csv   target                    3          svm                    ['0.1', '1', 10]                       [200]                                         ['lbfgs']                                   ['0.1', '1', 10]                    [3, 5]                                   ['scale']                               ['rbf', 'linear']                        metrics.json         models/model.joblib   reports             e3623a87a01908f403ea7e6260094f57   8ca0a17f1b6f79dbdfdb598484633e1e   a2ec47f82aca318b8c0ff05879d1ee4f   10f5f61b137fa708403ea5c480386bfe   b50fab11ff6aee28db72d14e99320391   cd7f6529f8c4836e218dc724cf020ce3   f3169382505373ee5c5cc020b00a83b5   e5aaf6d196b0547783acf4b12ef8eafe  \n",
      " ──────────────────────────────────────────────────────────────────────────────────────────────────────────────────────────────────────────────────────────────────────────────────────────────────────────────────────────────────────────────────────────────────────────────────────────────────────────────────────────────────────────────────────────────────────────────────────────────────────────────────────────────────────────────────────────────────────────────────────────────────────────────────────────────────────────────────────────────────────────────────────────────────────────────────────────────────────────────────────────────────────────────────────────────────────────────────────────────────────────────────────────────────────────────────────────────────────────────────────────────────────────────────────────────────────────────────────────────────────────────────────────────────────────────────────────────────────────────────────────────────────────────────────────────────────────────────────────── \n"
     ]
    }
   ],
   "source": [
    "!dvc exp show"
   ]
  },
  {
   "cell_type": "markdown",
   "metadata": {},
   "source": [
    "# Push changes to remote repository\n",
    "\n",
    "```bash\n",
    "git push origin step-6\n",
    "```"
   ]
  },
  {
   "cell_type": "markdown",
   "metadata": {},
   "source": [
    "# DVC Studio\n",
    "\n",
    "\n",
    "## View creation\n",
    "\n",
    "1. Open [DVC Studio](https://studio.iterative.ai/) and sing up/sing in.\n",
    "\n",
    "2. Create **View**: click **Add a view**\n",
    "\n",
    "3. Select repository\n",
    "\n",
    "## Work with View\n",
    "\n",
    "1. Enter `View`\n",
    "\n",
    "2. Navigate the branch `step-6`\n",
    "\n",
    "3. Select one of commits and click `Show plots` - you'll see plots built by `DVC Studio` for selected commit\n",
    "\n",
    "4. Select any **two commits** to compare it and click `Compare` - `DVS Studio` will build comparison table"
   ]
  }
 ],
 "metadata": {
  "kernelspec": {
   "display_name": "Python 3",
   "language": "python",
   "name": "python3"
  },
  "language_info": {
   "codemirror_mode": {
    "name": "ipython",
    "version": 3
   },
   "file_extension": ".py",
   "mimetype": "text/x-python",
   "name": "python",
   "nbconvert_exporter": "python",
   "pygments_lexer": "ipython3",
   "version": "3.12.7"
  },
  "toc": {
   "base_numbering": 1,
   "nav_menu": {},
   "number_sections": true,
   "sideBar": true,
   "skip_h1_title": false,
   "title_cell": "Table of Contents",
   "title_sidebar": "Contents",
   "toc_cell": false,
   "toc_position": {},
   "toc_section_display": true,
   "toc_window_display": true
  },
  "varInspector": {
   "cols": {
    "lenName": 16,
    "lenType": 16,
    "lenVar": 40
   },
   "kernels_config": {
    "python": {
     "delete_cmd_postfix": "",
     "delete_cmd_prefix": "del ",
     "library": "var_list.py",
     "varRefreshCmd": "print(var_dic_list())"
    },
    "r": {
     "delete_cmd_postfix": ") ",
     "delete_cmd_prefix": "rm(",
     "library": "var_list.r",
     "varRefreshCmd": "cat(var_dic_list()) "
    }
   },
   "types_to_exclude": [
    "module",
    "function",
    "builtin_function_or_method",
    "instance",
    "_Feature"
   ],
   "window_display": false
  }
 },
 "nbformat": 4,
 "nbformat_minor": 4
}
