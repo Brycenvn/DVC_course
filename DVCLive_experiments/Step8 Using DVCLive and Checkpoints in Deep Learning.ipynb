{
 "cells": [
  {
   "cell_type": "markdown",
   "metadata": {},
   "source": [
    "# DVCLive and checkpoints"
   ]
  },
  {
   "cell_type": "code",
   "execution_count": 4,
   "metadata": {},
   "outputs": [
    {
     "name": "stdout",
     "output_type": "stream",
     "text": [
      "d:\\MLOps\\Hands_on\\DVC\\DVC\\DVCLive_pratice\n"
     ]
    }
   ],
   "source": [
    "# %cd D:\\MLOps\\Hands_on\\DVC\\DVC\\DVCLive_pratice"
   ]
  },
  {
   "cell_type": "markdown",
   "metadata": {},
   "source": [
    "download resource for experiment"
   ]
  },
  {
   "cell_type": "code",
   "execution_count": 7,
   "metadata": {},
   "outputs": [
    {
     "name": "stdout",
     "output_type": "stream",
     "text": [
      "Download complete!\n",
      "Extracted to .\n",
      "Contents of the extracted directory:\n",
      ". ['hymenoptera_data', 'results_dvc_plots']\n",
      ".\\hymenoptera_data ['hymenoptera_data', 'train', 'val']\n",
      ".\\hymenoptera_data\\hymenoptera_data ['train', 'val']\n",
      ".\\hymenoptera_data\\hymenoptera_data\\train ['ants', 'bees']\n",
      ".\\hymenoptera_data\\hymenoptera_data\\train\\ants []\n",
      ".\\hymenoptera_data\\hymenoptera_data\\train\\bees []\n",
      ".\\hymenoptera_data\\hymenoptera_data\\val ['ants', 'bees']\n",
      ".\\hymenoptera_data\\hymenoptera_data\\val\\ants []\n",
      ".\\hymenoptera_data\\hymenoptera_data\\val\\bees []\n",
      ".\\hymenoptera_data\\train ['ants', 'bees']\n",
      ".\\hymenoptera_data\\train\\ants []\n",
      ".\\hymenoptera_data\\train\\bees []\n",
      ".\\hymenoptera_data\\val ['ants', 'bees']\n",
      ".\\hymenoptera_data\\val\\ants []\n",
      ".\\hymenoptera_data\\val\\bees []\n",
      ".\\results_dvc_plots []\n",
      "Zip file removed.\n"
     ]
    }
   ],
   "source": [
    "import requests\n",
    "import zipfile\n",
    "import os\n",
    "\n",
    "url = 'https://download.pytorch.org/tutorial/hymenoptera_data.zip'\n",
    "zip_file_path = 'hymenoptera_data.zip'\n",
    "extract_path = '.'\n",
    "\n",
    "# Download the file\n",
    "response = requests.get(url)\n",
    "with open(zip_file_path, 'wb') as f:\n",
    "    f.write(response.content)\n",
    "\n",
    "print(\"Download complete!\")\n",
    "\n",
    "# Extract the zip file\n",
    "with zipfile.ZipFile(zip_file_path, 'r') as zip_ref:\n",
    "    zip_ref.extractall(extract_path)\n",
    "\n",
    "print(f\"Extracted to {extract_path}\")\n",
    "\n",
    "# Check directory structure\n",
    "print(\"Contents of the extracted directory:\")\n",
    "for root, dirs, files in os.walk(extract_path):\n",
    "    print(root, dirs)\n",
    "\n",
    "# Optionally, remove the zip file after extraction\n",
    "os.remove(zip_file_path)\n",
    "print(\"Zip file removed.\")\n"
   ]
  },
  {
   "cell_type": "code",
   "execution_count": 2,
   "metadata": {},
   "outputs": [
    {
     "name": "stdout",
     "output_type": "stream",
     "text": [
      "Initialized DVC repository.\n",
      "\n",
      "You can now commit the changes to git.\n",
      "\n",
      "+---------------------------------------------------------------------+\n",
      "|                                                                     |\n",
      "|        DVC has enabled anonymous aggregate usage analytics.         |\n",
      "|     Read the analytics documentation (and how to opt-out) here:     |\n",
      "|             <https://dvc.org/doc/user-guide/analytics>              |\n",
      "|                                                                     |\n",
      "+---------------------------------------------------------------------+\n",
      "\n",
      "What's next?\n",
      "------------\n",
      "- Check out the documentation: <https://dvc.org/doc>\n",
      "- Get help and share ideas: <https://dvc.org/chat>\n",
      "- Star us on GitHub: <https://github.com/iterative/dvc>\n"
     ]
    }
   ],
   "source": [
    "!dvc init -f"
   ]
  },
  {
   "cell_type": "code",
   "execution_count": 3,
   "metadata": {},
   "outputs": [
    {
     "name": "stdout",
     "output_type": "stream",
     "text": [
      "\n",
      "To track the changes with git, run:\n",
      "\n",
      "\tgit add hymenoptera_data.dvc\n",
      "\n",
      "To enable auto staging, run:\n",
      "\n",
      "\tdvc config core.autostage true\n"
     ]
    },
    {
     "name": "stderr",
     "output_type": "stream",
     "text": [
      "⠋ Checking graph\n",
      "\n"
     ]
    }
   ],
   "source": [
    "!dvc add hymenoptera_data/"
   ]
  },
  {
   "cell_type": "code",
   "execution_count": 4,
   "metadata": {},
   "outputs": [],
   "source": [
    "!git add hymenoptera_data.dvc .gitignore"
   ]
  },
  {
   "cell_type": "markdown",
   "metadata": {},
   "source": [
    "Install package"
   ]
  },
  {
   "cell_type": "code",
   "execution_count": 4,
   "metadata": {},
   "outputs": [
    {
     "name": "stdout",
     "output_type": "stream",
     "text": [
      "Requirement already satisfied: dvc>=2.0.0a0 in d:\\users\\st_cong\\conda\\dvc\\lib\\site-packages (from -r requirements.txt (line 1)) (3.55.2)\n",
      "Collecting dvclive>0.4.0 (from -r requirements.txt (line 2))\n",
      "  Downloading dvclive-3.48.0-py3-none-any.whl.metadata (10 kB)\n",
      "Requirement already satisfied: torch in c:\\users\\st_cong\\appdata\\roaming\\python\\python312\\site-packages (from -r requirements.txt (line 3)) (2.4.1)\n",
      "Requirement already satisfied: torchvision>=0.9.1 in c:\\users\\st_cong\\appdata\\roaming\\python\\python312\\site-packages (from -r requirements.txt (line 4)) (0.19.1)\n",
      "Requirement already satisfied: matplotlib in d:\\users\\st_cong\\conda\\dvc\\lib\\site-packages (from -r requirements.txt (line 5)) (3.9.2)\n",
      "Requirement already satisfied: numpy in d:\\users\\st_cong\\conda\\dvc\\lib\\site-packages (from -r requirements.txt (line 6)) (2.1.2)\n",
      "Requirement already satisfied: attrs>=22.2.0 in c:\\users\\st_cong\\appdata\\roaming\\python\\python312\\site-packages (from dvc>=2.0.0a0->-r requirements.txt (line 1)) (24.2.0)\n",
      "Requirement already satisfied: celery in d:\\users\\st_cong\\conda\\dvc\\lib\\site-packages (from dvc>=2.0.0a0->-r requirements.txt (line 1)) (5.4.0)\n",
      "Requirement already satisfied: colorama>=0.3.9 in d:\\users\\st_cong\\conda\\dvc\\lib\\site-packages (from dvc>=2.0.0a0->-r requirements.txt (line 1)) (0.4.6)\n",
      "Requirement already satisfied: configobj>=5.0.6 in d:\\users\\st_cong\\conda\\dvc\\lib\\site-packages (from dvc>=2.0.0a0->-r requirements.txt (line 1)) (5.0.9)\n",
      "Requirement already satisfied: distro>=1.3 in d:\\users\\st_cong\\conda\\dvc\\lib\\site-packages (from dvc>=2.0.0a0->-r requirements.txt (line 1)) (1.9.0)\n",
      "Requirement already satisfied: dpath<3,>=2.1.0 in d:\\users\\st_cong\\conda\\dvc\\lib\\site-packages (from dvc>=2.0.0a0->-r requirements.txt (line 1)) (2.2.0)\n",
      "Requirement already satisfied: dulwich in d:\\users\\st_cong\\conda\\dvc\\lib\\site-packages (from dvc>=2.0.0a0->-r requirements.txt (line 1)) (0.22.1)\n",
      "Requirement already satisfied: dvc-data<3.17,>=3.16.2 in d:\\users\\st_cong\\conda\\dvc\\lib\\site-packages (from dvc>=2.0.0a0->-r requirements.txt (line 1)) (3.16.6)\n",
      "Requirement already satisfied: dvc-http>=2.29.0 in d:\\users\\st_cong\\conda\\dvc\\lib\\site-packages (from dvc>=2.0.0a0->-r requirements.txt (line 1)) (2.32.0)\n",
      "Requirement already satisfied: dvc-objects in d:\\users\\st_cong\\conda\\dvc\\lib\\site-packages (from dvc>=2.0.0a0->-r requirements.txt (line 1)) (5.1.0)\n",
      "Requirement already satisfied: dvc-render<2,>=1.0.1 in d:\\users\\st_cong\\conda\\dvc\\lib\\site-packages (from dvc>=2.0.0a0->-r requirements.txt (line 1)) (1.0.2)\n",
      "Requirement already satisfied: dvc-studio-client<1,>=0.21 in d:\\users\\st_cong\\conda\\dvc\\lib\\site-packages (from dvc>=2.0.0a0->-r requirements.txt (line 1)) (0.21.0)\n",
      "Requirement already satisfied: dvc-task<1,>=0.3.0 in d:\\users\\st_cong\\conda\\dvc\\lib\\site-packages (from dvc>=2.0.0a0->-r requirements.txt (line 1)) (0.40.2)\n",
      "Requirement already satisfied: flatten-dict<1,>=0.4.1 in d:\\users\\st_cong\\conda\\dvc\\lib\\site-packages (from dvc>=2.0.0a0->-r requirements.txt (line 1)) (0.4.2)\n",
      "Requirement already satisfied: flufl.lock<9,>=8.1.0 in d:\\users\\st_cong\\conda\\dvc\\lib\\site-packages (from dvc>=2.0.0a0->-r requirements.txt (line 1)) (8.1.0)\n",
      "Requirement already satisfied: fsspec>=2024.2.0 in c:\\users\\st_cong\\appdata\\roaming\\python\\python312\\site-packages (from dvc>=2.0.0a0->-r requirements.txt (line 1)) (2024.9.0)\n",
      "Requirement already satisfied: funcy>=1.14 in d:\\users\\st_cong\\conda\\dvc\\lib\\site-packages (from dvc>=2.0.0a0->-r requirements.txt (line 1)) (2.0)\n",
      "Requirement already satisfied: grandalf<1,>=0.7 in d:\\users\\st_cong\\conda\\dvc\\lib\\site-packages (from dvc>=2.0.0a0->-r requirements.txt (line 1)) (0.8)\n",
      "Requirement already satisfied: gto<2,>=1.6.0 in d:\\users\\st_cong\\conda\\dvc\\lib\\site-packages (from dvc>=2.0.0a0->-r requirements.txt (line 1)) (1.7.1)\n",
      "Requirement already satisfied: hydra-core>=1.1 in d:\\users\\st_cong\\conda\\dvc\\lib\\site-packages (from dvc>=2.0.0a0->-r requirements.txt (line 1)) (1.3.2)\n",
      "Requirement already satisfied: iterative-telemetry>=0.0.7 in d:\\users\\st_cong\\conda\\dvc\\lib\\site-packages (from dvc>=2.0.0a0->-r requirements.txt (line 1)) (0.0.9)\n",
      "Requirement already satisfied: kombu in d:\\users\\st_cong\\conda\\dvc\\lib\\site-packages (from dvc>=2.0.0a0->-r requirements.txt (line 1)) (5.4.2)\n",
      "Requirement already satisfied: networkx>=2.5 in c:\\users\\st_cong\\appdata\\roaming\\python\\python312\\site-packages (from dvc>=2.0.0a0->-r requirements.txt (line 1)) (3.3)\n",
      "Requirement already satisfied: omegaconf in c:\\users\\st_cong\\appdata\\roaming\\python\\python312\\site-packages (from dvc>=2.0.0a0->-r requirements.txt (line 1)) (2.3.0)\n",
      "Requirement already satisfied: packaging>=19 in d:\\users\\st_cong\\conda\\dvc\\lib\\site-packages (from dvc>=2.0.0a0->-r requirements.txt (line 1)) (24.1)\n",
      "Requirement already satisfied: pathspec>=0.10.3 in d:\\users\\st_cong\\conda\\dvc\\lib\\site-packages (from dvc>=2.0.0a0->-r requirements.txt (line 1)) (0.12.1)\n",
      "Requirement already satisfied: platformdirs<4,>=3.1.1 in d:\\users\\st_cong\\conda\\dvc\\lib\\site-packages (from dvc>=2.0.0a0->-r requirements.txt (line 1)) (3.11.0)\n",
      "Requirement already satisfied: psutil>=5.8 in d:\\users\\st_cong\\conda\\dvc\\lib\\site-packages (from dvc>=2.0.0a0->-r requirements.txt (line 1)) (6.0.0)\n",
      "Requirement already satisfied: pydot>=1.2.4 in d:\\users\\st_cong\\conda\\dvc\\lib\\site-packages (from dvc>=2.0.0a0->-r requirements.txt (line 1)) (3.0.2)\n",
      "Requirement already satisfied: pygtrie>=2.3.2 in d:\\users\\st_cong\\conda\\dvc\\lib\\site-packages (from dvc>=2.0.0a0->-r requirements.txt (line 1)) (2.5.0)\n",
      "Requirement already satisfied: pyparsing>=2.4.7 in d:\\users\\st_cong\\conda\\dvc\\lib\\site-packages (from dvc>=2.0.0a0->-r requirements.txt (line 1)) (3.1.4)\n",
      "Requirement already satisfied: requests>=2.22 in c:\\users\\st_cong\\appdata\\roaming\\python\\python312\\site-packages (from dvc>=2.0.0a0->-r requirements.txt (line 1)) (2.32.3)\n",
      "Requirement already satisfied: rich>=12 in d:\\users\\st_cong\\conda\\dvc\\lib\\site-packages (from dvc>=2.0.0a0->-r requirements.txt (line 1)) (13.9.2)\n",
      "Requirement already satisfied: ruamel.yaml>=0.17.11 in d:\\users\\st_cong\\conda\\dvc\\lib\\site-packages (from dvc>=2.0.0a0->-r requirements.txt (line 1)) (0.18.6)\n",
      "Requirement already satisfied: scmrepo<4,>=3.3.4 in d:\\users\\st_cong\\conda\\dvc\\lib\\site-packages (from dvc>=2.0.0a0->-r requirements.txt (line 1)) (3.3.8)\n",
      "Requirement already satisfied: shortuuid>=0.5 in d:\\users\\st_cong\\conda\\dvc\\lib\\site-packages (from dvc>=2.0.0a0->-r requirements.txt (line 1)) (1.0.13)\n",
      "Requirement already satisfied: shtab<2,>=1.3.4 in d:\\users\\st_cong\\conda\\dvc\\lib\\site-packages (from dvc>=2.0.0a0->-r requirements.txt (line 1)) (1.7.1)\n",
      "Requirement already satisfied: tabulate>=0.8.7 in d:\\users\\st_cong\\conda\\dvc\\lib\\site-packages (from dvc>=2.0.0a0->-r requirements.txt (line 1)) (0.9.0)\n",
      "Requirement already satisfied: tomlkit>=0.11.1 in d:\\users\\st_cong\\conda\\dvc\\lib\\site-packages (from dvc>=2.0.0a0->-r requirements.txt (line 1)) (0.13.2)\n",
      "Requirement already satisfied: tqdm<5,>=4.63.1 in d:\\users\\st_cong\\conda\\dvc\\lib\\site-packages (from dvc>=2.0.0a0->-r requirements.txt (line 1)) (4.66.5)\n",
      "Requirement already satisfied: voluptuous>=0.11.7 in d:\\users\\st_cong\\conda\\dvc\\lib\\site-packages (from dvc>=2.0.0a0->-r requirements.txt (line 1)) (0.15.2)\n",
      "Requirement already satisfied: zc.lockfile>=1.2.1 in d:\\users\\st_cong\\conda\\dvc\\lib\\site-packages (from dvc>=2.0.0a0->-r requirements.txt (line 1)) (3.0.post1)\n",
      "Collecting pynvml (from dvclive>0.4.0->-r requirements.txt (line 2))\n",
      "  Downloading pynvml-11.5.3-py3-none-any.whl.metadata (8.8 kB)\n",
      "Requirement already satisfied: filelock in c:\\users\\st_cong\\appdata\\roaming\\python\\python312\\site-packages (from torch->-r requirements.txt (line 3)) (3.16.0)\n",
      "Requirement already satisfied: typing-extensions>=4.8.0 in d:\\users\\st_cong\\conda\\dvc\\lib\\site-packages (from torch->-r requirements.txt (line 3)) (4.12.2)\n",
      "Collecting sympy (from torch->-r requirements.txt (line 3))\n",
      "  Downloading sympy-1.13.3-py3-none-any.whl.metadata (12 kB)\n",
      "Requirement already satisfied: jinja2 in c:\\users\\st_cong\\appdata\\roaming\\python\\python312\\site-packages (from torch->-r requirements.txt (line 3)) (3.1.4)\n",
      "Requirement already satisfied: setuptools in d:\\users\\st_cong\\conda\\dvc\\lib\\site-packages (from torch->-r requirements.txt (line 3)) (75.1.0)\n",
      "Requirement already satisfied: pillow!=8.3.*,>=5.3.0 in d:\\users\\st_cong\\conda\\dvc\\lib\\site-packages (from torchvision>=0.9.1->-r requirements.txt (line 4)) (10.4.0)\n",
      "Requirement already satisfied: contourpy>=1.0.1 in d:\\users\\st_cong\\conda\\dvc\\lib\\site-packages (from matplotlib->-r requirements.txt (line 5)) (1.3.0)\n",
      "Requirement already satisfied: cycler>=0.10 in d:\\users\\st_cong\\conda\\dvc\\lib\\site-packages (from matplotlib->-r requirements.txt (line 5)) (0.12.1)\n",
      "Requirement already satisfied: fonttools>=4.22.0 in d:\\users\\st_cong\\conda\\dvc\\lib\\site-packages (from matplotlib->-r requirements.txt (line 5)) (4.54.1)\n",
      "Requirement already satisfied: kiwisolver>=1.3.1 in d:\\users\\st_cong\\conda\\dvc\\lib\\site-packages (from matplotlib->-r requirements.txt (line 5)) (1.4.7)\n",
      "Requirement already satisfied: python-dateutil>=2.7 in d:\\users\\st_cong\\conda\\dvc\\lib\\site-packages (from matplotlib->-r requirements.txt (line 5)) (2.9.0)\n",
      "Requirement already satisfied: dictdiffer>=0.8.1 in d:\\users\\st_cong\\conda\\dvc\\lib\\site-packages (from dvc-data<3.17,>=3.16.2->dvc>=2.0.0a0->-r requirements.txt (line 1)) (0.9.0)\n",
      "Requirement already satisfied: diskcache>=5.2.1 in d:\\users\\st_cong\\conda\\dvc\\lib\\site-packages (from dvc-data<3.17,>=3.16.2->dvc>=2.0.0a0->-r requirements.txt (line 1)) (5.6.3)\n",
      "Requirement already satisfied: sqltrie<1,>=0.11.0 in d:\\users\\st_cong\\conda\\dvc\\lib\\site-packages (from dvc-data<3.17,>=3.16.2->dvc>=2.0.0a0->-r requirements.txt (line 1)) (0.11.1)\n",
      "Requirement already satisfied: orjson<4,>=3 in d:\\users\\st_cong\\conda\\dvc\\lib\\site-packages (from dvc-data<3.17,>=3.16.2->dvc>=2.0.0a0->-r requirements.txt (line 1)) (3.10.7)\n",
      "Requirement already satisfied: aiohttp-retry>=2.5.0 in d:\\users\\st_cong\\conda\\dvc\\lib\\site-packages (from dvc-http>=2.29.0->dvc>=2.0.0a0->-r requirements.txt (line 1)) (2.8.3)\n",
      "Requirement already satisfied: pywin32>=225 in d:\\users\\st_cong\\conda\\dvc\\lib\\site-packages (from dvc-task<1,>=0.3.0->dvc>=2.0.0a0->-r requirements.txt (line 1)) (306)\n",
      "Requirement already satisfied: billiard<5.0,>=4.2.0 in d:\\users\\st_cong\\conda\\dvc\\lib\\site-packages (from celery->dvc>=2.0.0a0->-r requirements.txt (line 1)) (4.2.1)\n",
      "Requirement already satisfied: vine<6.0,>=5.1.0 in d:\\users\\st_cong\\conda\\dvc\\lib\\site-packages (from celery->dvc>=2.0.0a0->-r requirements.txt (line 1)) (5.1.0)\n",
      "Requirement already satisfied: click<9.0,>=8.1.2 in d:\\users\\st_cong\\conda\\dvc\\lib\\site-packages (from celery->dvc>=2.0.0a0->-r requirements.txt (line 1)) (8.1.7)\n",
      "Requirement already satisfied: click-didyoumean>=0.3.0 in d:\\users\\st_cong\\conda\\dvc\\lib\\site-packages (from celery->dvc>=2.0.0a0->-r requirements.txt (line 1)) (0.3.1)\n",
      "Requirement already satisfied: click-repl>=0.2.0 in d:\\users\\st_cong\\conda\\dvc\\lib\\site-packages (from celery->dvc>=2.0.0a0->-r requirements.txt (line 1)) (0.3.0)\n",
      "Requirement already satisfied: click-plugins>=1.1.1 in d:\\users\\st_cong\\conda\\dvc\\lib\\site-packages (from celery->dvc>=2.0.0a0->-r requirements.txt (line 1)) (1.1.1)\n",
      "Requirement already satisfied: tzdata>=2022.7 in d:\\users\\st_cong\\conda\\dvc\\lib\\site-packages (from celery->dvc>=2.0.0a0->-r requirements.txt (line 1)) (2024.2)\n",
      "Requirement already satisfied: six<2.0,>=1.12 in d:\\users\\st_cong\\conda\\dvc\\lib\\site-packages (from flatten-dict<1,>=0.4.1->dvc>=2.0.0a0->-r requirements.txt (line 1)) (1.16.0)\n",
      "Requirement already satisfied: atpublic in d:\\users\\st_cong\\conda\\dvc\\lib\\site-packages (from flufl.lock<9,>=8.1.0->dvc>=2.0.0a0->-r requirements.txt (line 1)) (5.0)\n",
      "Requirement already satisfied: typer>=0.4.1 in d:\\users\\st_cong\\conda\\dvc\\lib\\site-packages (from gto<2,>=1.6.0->dvc>=2.0.0a0->-r requirements.txt (line 1)) (0.12.5)\n",
      "Requirement already satisfied: pydantic!=2.0.0,<3,>=1.9.0 in d:\\users\\st_cong\\conda\\dvc\\lib\\site-packages (from gto<2,>=1.6.0->dvc>=2.0.0a0->-r requirements.txt (line 1)) (2.9.2)\n",
      "Requirement already satisfied: semver>=2.13.0 in d:\\users\\st_cong\\conda\\dvc\\lib\\site-packages (from gto<2,>=1.6.0->dvc>=2.0.0a0->-r requirements.txt (line 1)) (3.0.2)\n",
      "Requirement already satisfied: entrypoints in d:\\users\\st_cong\\conda\\dvc\\lib\\site-packages (from gto<2,>=1.6.0->dvc>=2.0.0a0->-r requirements.txt (line 1)) (0.4)\n",
      "Requirement already satisfied: antlr4-python3-runtime==4.9.* in d:\\users\\st_cong\\conda\\dvc\\lib\\site-packages (from hydra-core>=1.1->dvc>=2.0.0a0->-r requirements.txt (line 1)) (4.9.3)\n",
      "Requirement already satisfied: appdirs in d:\\users\\st_cong\\conda\\dvc\\lib\\site-packages (from iterative-telemetry>=0.0.7->dvc>=2.0.0a0->-r requirements.txt (line 1)) (1.4.4)\n",
      "Requirement already satisfied: amqp<6.0.0,>=5.1.1 in d:\\users\\st_cong\\conda\\dvc\\lib\\site-packages (from kombu->dvc>=2.0.0a0->-r requirements.txt (line 1)) (5.2.0)\n",
      "Requirement already satisfied: PyYAML>=5.1.0 in d:\\users\\st_cong\\conda\\dvc\\lib\\site-packages (from omegaconf->dvc>=2.0.0a0->-r requirements.txt (line 1)) (6.0.2)\n",
      "Requirement already satisfied: charset-normalizer<4,>=2 in c:\\users\\st_cong\\appdata\\roaming\\python\\python312\\site-packages (from requests>=2.22->dvc>=2.0.0a0->-r requirements.txt (line 1)) (3.3.2)\n",
      "Requirement already satisfied: idna<4,>=2.5 in c:\\users\\st_cong\\appdata\\roaming\\python\\python312\\site-packages (from requests>=2.22->dvc>=2.0.0a0->-r requirements.txt (line 1)) (3.8)\n",
      "Requirement already satisfied: urllib3<3,>=1.21.1 in d:\\users\\st_cong\\conda\\dvc\\lib\\site-packages (from requests>=2.22->dvc>=2.0.0a0->-r requirements.txt (line 1)) (2.2.3)\n",
      "Requirement already satisfied: certifi>=2017.4.17 in c:\\users\\st_cong\\appdata\\roaming\\python\\python312\\site-packages (from requests>=2.22->dvc>=2.0.0a0->-r requirements.txt (line 1)) (2024.8.30)\n",
      "Requirement already satisfied: markdown-it-py>=2.2.0 in d:\\users\\st_cong\\conda\\dvc\\lib\\site-packages (from rich>=12->dvc>=2.0.0a0->-r requirements.txt (line 1)) (3.0.0)\n",
      "Requirement already satisfied: pygments<3.0.0,>=2.13.0 in d:\\users\\st_cong\\conda\\dvc\\lib\\site-packages (from rich>=12->dvc>=2.0.0a0->-r requirements.txt (line 1)) (2.18.0)\n",
      "Requirement already satisfied: ruamel.yaml.clib>=0.2.7 in d:\\users\\st_cong\\conda\\dvc\\lib\\site-packages (from ruamel.yaml>=0.17.11->dvc>=2.0.0a0->-r requirements.txt (line 1)) (0.2.8)\n",
      "Requirement already satisfied: gitpython>3 in d:\\users\\st_cong\\conda\\dvc\\lib\\site-packages (from scmrepo<4,>=3.3.4->dvc>=2.0.0a0->-r requirements.txt (line 1)) (3.1.43)\n",
      "Requirement already satisfied: pygit2>=1.14.0 in d:\\users\\st_cong\\conda\\dvc\\lib\\site-packages (from scmrepo<4,>=3.3.4->dvc>=2.0.0a0->-r requirements.txt (line 1)) (1.15.1)\n",
      "Requirement already satisfied: asyncssh<3,>=2.13.1 in d:\\users\\st_cong\\conda\\dvc\\lib\\site-packages (from scmrepo<4,>=3.3.4->dvc>=2.0.0a0->-r requirements.txt (line 1)) (2.17.0)\n",
      "Requirement already satisfied: MarkupSafe>=2.0 in c:\\users\\st_cong\\appdata\\roaming\\python\\python312\\site-packages (from jinja2->torch->-r requirements.txt (line 3)) (2.1.5)\n",
      "Collecting mpmath<1.4,>=1.1.0 (from sympy->torch->-r requirements.txt (line 3))\n",
      "  Using cached mpmath-1.3.0-py3-none-any.whl.metadata (8.6 kB)\n",
      "Requirement already satisfied: aiohttp in d:\\users\\st_cong\\conda\\dvc\\lib\\site-packages (from aiohttp-retry>=2.5.0->dvc-http>=2.29.0->dvc>=2.0.0a0->-r requirements.txt (line 1)) (3.10.9)\n",
      "Requirement already satisfied: cryptography>=39.0 in d:\\users\\st_cong\\conda\\dvc\\lib\\site-packages (from asyncssh<3,>=2.13.1->scmrepo<4,>=3.3.4->dvc>=2.0.0a0->-r requirements.txt (line 1)) (43.0.1)\n",
      "Requirement already satisfied: prompt-toolkit>=3.0.36 in d:\\users\\st_cong\\conda\\dvc\\lib\\site-packages (from click-repl>=0.2.0->celery->dvc>=2.0.0a0->-r requirements.txt (line 1)) (3.0.48)\n",
      "Requirement already satisfied: gitdb<5,>=4.0.1 in d:\\users\\st_cong\\conda\\dvc\\lib\\site-packages (from gitpython>3->scmrepo<4,>=3.3.4->dvc>=2.0.0a0->-r requirements.txt (line 1)) (4.0.11)\n",
      "Requirement already satisfied: mdurl~=0.1 in d:\\users\\st_cong\\conda\\dvc\\lib\\site-packages (from markdown-it-py>=2.2.0->rich>=12->dvc>=2.0.0a0->-r requirements.txt (line 1)) (0.1.2)\n",
      "Requirement already satisfied: annotated-types>=0.6.0 in d:\\users\\st_cong\\conda\\dvc\\lib\\site-packages (from pydantic!=2.0.0,<3,>=1.9.0->gto<2,>=1.6.0->dvc>=2.0.0a0->-r requirements.txt (line 1)) (0.7.0)\n",
      "Requirement already satisfied: pydantic-core==2.23.4 in d:\\users\\st_cong\\conda\\dvc\\lib\\site-packages (from pydantic!=2.0.0,<3,>=1.9.0->gto<2,>=1.6.0->dvc>=2.0.0a0->-r requirements.txt (line 1)) (2.23.4)\n",
      "Requirement already satisfied: cffi>=1.16.0 in c:\\users\\st_cong\\appdata\\roaming\\python\\python312\\site-packages (from pygit2>=1.14.0->scmrepo<4,>=3.3.4->dvc>=2.0.0a0->-r requirements.txt (line 1)) (1.17.1)\n",
      "Requirement already satisfied: shellingham>=1.3.0 in d:\\users\\st_cong\\conda\\dvc\\lib\\site-packages (from typer>=0.4.1->gto<2,>=1.6.0->dvc>=2.0.0a0->-r requirements.txt (line 1)) (1.5.4)\n",
      "Requirement already satisfied: aiohappyeyeballs>=2.3.0 in d:\\users\\st_cong\\conda\\dvc\\lib\\site-packages (from aiohttp->aiohttp-retry>=2.5.0->dvc-http>=2.29.0->dvc>=2.0.0a0->-r requirements.txt (line 1)) (2.4.3)\n",
      "Requirement already satisfied: aiosignal>=1.1.2 in d:\\users\\st_cong\\conda\\dvc\\lib\\site-packages (from aiohttp->aiohttp-retry>=2.5.0->dvc-http>=2.29.0->dvc>=2.0.0a0->-r requirements.txt (line 1)) (1.3.1)\n",
      "Requirement already satisfied: frozenlist>=1.1.1 in d:\\users\\st_cong\\conda\\dvc\\lib\\site-packages (from aiohttp->aiohttp-retry>=2.5.0->dvc-http>=2.29.0->dvc>=2.0.0a0->-r requirements.txt (line 1)) (1.4.1)\n",
      "Requirement already satisfied: multidict<7.0,>=4.5 in d:\\users\\st_cong\\conda\\dvc\\lib\\site-packages (from aiohttp->aiohttp-retry>=2.5.0->dvc-http>=2.29.0->dvc>=2.0.0a0->-r requirements.txt (line 1)) (6.1.0)\n",
      "Requirement already satisfied: yarl<2.0,>=1.12.0 in d:\\users\\st_cong\\conda\\dvc\\lib\\site-packages (from aiohttp->aiohttp-retry>=2.5.0->dvc-http>=2.29.0->dvc>=2.0.0a0->-r requirements.txt (line 1)) (1.14.0)\n",
      "Requirement already satisfied: pycparser in d:\\users\\st_cong\\conda\\dvc\\lib\\site-packages (from cffi>=1.16.0->pygit2>=1.14.0->scmrepo<4,>=3.3.4->dvc>=2.0.0a0->-r requirements.txt (line 1)) (2.22)\n",
      "Requirement already satisfied: smmap<6,>=3.0.1 in d:\\users\\st_cong\\conda\\dvc\\lib\\site-packages (from gitdb<5,>=4.0.1->gitpython>3->scmrepo<4,>=3.3.4->dvc>=2.0.0a0->-r requirements.txt (line 1)) (5.0.1)\n",
      "Requirement already satisfied: wcwidth in d:\\users\\st_cong\\conda\\dvc\\lib\\site-packages (from prompt-toolkit>=3.0.36->click-repl>=0.2.0->celery->dvc>=2.0.0a0->-r requirements.txt (line 1)) (0.2.13)\n",
      "Requirement already satisfied: propcache>=0.2.0 in d:\\users\\st_cong\\conda\\dvc\\lib\\site-packages (from yarl<2.0,>=1.12.0->aiohttp->aiohttp-retry>=2.5.0->dvc-http>=2.29.0->dvc>=2.0.0a0->-r requirements.txt (line 1)) (0.2.0)\n",
      "Downloading dvclive-3.48.0-py3-none-any.whl (43 kB)\n",
      "Downloading pynvml-11.5.3-py3-none-any.whl (53 kB)\n",
      "Downloading sympy-1.13.3-py3-none-any.whl (6.2 MB)\n",
      "   ---------------------------------------- 0.0/6.2 MB ? eta -:--:--\n",
      "   --- ------------------------------------ 0.5/6.2 MB 3.3 MB/s eta 0:00:02\n",
      "   ----- ---------------------------------- 0.8/6.2 MB 3.0 MB/s eta 0:00:02\n",
      "   ----------------------- ---------------- 3.7/6.2 MB 6.6 MB/s eta 0:00:01\n",
      "   ----------------------------------- ---- 5.5/6.2 MB 7.3 MB/s eta 0:00:01\n",
      "   ---------------------------------------- 6.2/6.2 MB 7.1 MB/s eta 0:00:00\n",
      "Using cached mpmath-1.3.0-py3-none-any.whl (536 kB)\n",
      "Installing collected packages: mpmath, sympy, pynvml, dvclive\n",
      "Successfully installed dvclive-3.48.0 mpmath-1.3.0 pynvml-11.5.3 sympy-1.13.3\n"
     ]
    }
   ],
   "source": [
    "!pip install -r requirements.txt"
   ]
  },
  {
   "cell_type": "markdown",
   "metadata": {},
   "source": [
    "# To run an experiment\n",
    "With the project set up, you can run an experiment with DVC."
   ]
  },
  {
   "cell_type": "code",
   "execution_count": 5,
   "metadata": {},
   "outputs": [
    {
     "name": "stdout",
     "output_type": "stream",
     "text": [
      "2024-10-14 15:10:35,880 DEBUG: v3.55.2 (pip), CPython 3.12.7 on Windows-10-10.0.19045-SP0\n",
      "2024-10-14 15:10:35,880 DEBUG: command: D:\\Users\\st_cong\\conda\\dvc\\Scripts\\dvc exp run -v\n",
      "2024-10-14 15:10:37,094 DEBUG: built tree 'object 5541a96fc6b9ced1bfc39f068d9e8a4f.dir'\n",
      "2024-10-14 15:10:37,095 DEBUG: Computed stage: 'hymenoptera_data.dvc' md5: 'None'\n",
      "2024-10-14 15:10:37,126 DEBUG: built tree 'object 5541a96fc6b9ced1bfc39f068d9e8a4f.dir'\n",
      "2024-10-14 15:10:37,127 DEBUG: Preparing to transfer data from 'memory://dvc-staging-md5/9aff2382043d6bd1cce3b3391b706ba6f119b54588c203a97d23388e3519ec0c' to 'd:\\MLOps\\Hands_on\\DVC\\DVC\\course-checkpoints-project\\.dvc\\cache\\files\\md5'\n",
      "2024-10-14 15:10:37,127 DEBUG: Preparing to collect status from 'd:\\MLOps\\Hands_on\\DVC\\DVC\\course-checkpoints-project\\.dvc\\cache\\files\\md5'\n",
      "2024-10-14 15:10:37,129 DEBUG: Collecting status from 'd:\\MLOps\\Hands_on\\DVC\\DVC\\course-checkpoints-project\\.dvc\\cache\\files\\md5'\n",
      "2024-10-14 15:10:37,155 DEBUG: Saving information to 'hymenoptera_data.dvc'.\n",
      "2024-10-14 15:10:38,302 DEBUG: Stashed experiment '21d6641' with baseline '2b948b5' for future execution.\n",
      "2024-10-14 15:10:38,346 DEBUG: Init workspace executor in 'D:\\MLOps\\Hands_on\\DVC\\DVC\\course-checkpoints-project'\n",
      "Reproducing experiment 'dusky-geum'\n",
      "2024-10-14 15:10:38,758 DEBUG: Running repro in 'd:\\MLOps\\Hands_on\\DVC\\DVC\\course-checkpoints-project'\n",
      "2024-10-14 15:10:38,759 DEBUG: Removing 'd:\\MLOps\\Hands_on\\DVC\\DVC\\course-checkpoints-project\\.dvc\\tmp\\repro.dat'\n",
      "2024-10-14 15:10:39,758 DEBUG: Computed stage: 'hymenoptera_data.dvc' md5: 'None'\n",
      "2024-10-14 15:10:39,818 DEBUG: built tree 'object 5541a96fc6b9ced1bfc39f068d9e8a4f.dir'\n",
      "'hymenoptera_data.dvc' didn't change, skipping\n",
      "2024-10-14 15:10:39,823 DEBUG: Staging stage-related files: ['hymenoptera_data.dvc']\n",
      "2024-10-14 15:10:39,890 DEBUG: built tree 'object 5541a96fc6b9ced1bfc39f068d9e8a4f.dir'\n",
      "2024-10-14 15:10:39,899 DEBUG: Output 'model.pt' of stage: 'train' changed because it is 'not in cache'.\n",
      "2024-10-14 15:10:39,900 DEBUG: stage: 'train' changed.\n",
      "2024-10-14 15:10:39,941 DEBUG: built tree 'object 5541a96fc6b9ced1bfc39f068d9e8a4f.dir'\n",
      "2024-10-14 15:10:39,951 DEBUG: Removing output 'dvclive\\metrics.json' of stage: 'train'.\n",
      "2024-10-14 15:10:39,951 DEBUG: Removing 'd:\\MLOps\\Hands_on\\DVC\\DVC\\course-checkpoints-project\\dvclive\\metrics.json'\n",
      "2024-10-14 15:10:39,951 DEBUG: Removing output 'model.pt' of stage: 'train'.\n",
      "2024-10-14 15:10:39,952 DEBUG: Removing 'd:\\MLOps\\Hands_on\\DVC\\DVC\\course-checkpoints-project\\model.pt'\n",
      "2024-10-14 15:10:40,013 DEBUG: built tree 'object 5541a96fc6b9ced1bfc39f068d9e8a4f.dir'\n",
      "2024-10-14 15:10:40,044 DEBUG: built tree 'object 5541a96fc6b9ced1bfc39f068d9e8a4f.dir'\n",
      "2024-10-14 15:10:40,044 DEBUG: {}\n",
      "2024-10-14 15:10:40,044 DEBUG: {}\n",
      "2024-10-14 15:10:40,077 DEBUG: built tree 'object 5541a96fc6b9ced1bfc39f068d9e8a4f.dir'\n",
      "Running stage 'train':\n",
      "> python pretrained_model_tuner.py\n",
      "Initializing Datasets and Dataloaders...\n",
      "Params to learn:\n",
      "\t classifier.6.weight\n",
      "\t classifier.6.bias\n",
      "Epoch 0/1\n",
      "----------\n",
      "train Loss: 0.5590 Acc: 0.7090\n",
      "val Loss: 0.3565 Acc: 0.8954\n",
      "\n",
      "Epoch 1/1\n",
      "----------\n",
      "train Loss: 0.3194 Acc: 0.8811\n",
      "val Loss: 0.3108 Acc: 0.8824\n",
      "\n",
      "Training complete in 1m 42s\n",
      "Best val acc: 0.8954\n",
      "2024-10-14 15:12:28,375 DEBUG: built tree 'object 5541a96fc6b9ced1bfc39f068d9e8a4f.dir'\n",
      "2024-10-14 15:12:28,399 DEBUG: Output 'dvclive\\metrics.json' doesn't use cache. Skipping saving.\n",
      "2024-10-14 15:12:28,866 DEBUG: Computed stage: 'train' md5: 'e4c3f19b6cb16b061ecb96fdfc128aa3'\n",
      "2024-10-14 15:12:28,868 DEBUG: Preparing to transfer data from 'memory://dvc-staging-md5/9aff2382043d6bd1cce3b3391b706ba6f119b54588c203a97d23388e3519ec0c' to 'd:\\MLOps\\Hands_on\\DVC\\DVC\\course-checkpoints-project\\.dvc\\cache\\files\\md5'\n",
      "2024-10-14 15:12:28,869 DEBUG: Preparing to collect status from 'd:\\MLOps\\Hands_on\\DVC\\DVC\\course-checkpoints-project\\.dvc\\cache\\files\\md5'\n",
      "2024-10-14 15:12:28,869 DEBUG: Collecting status from 'd:\\MLOps\\Hands_on\\DVC\\DVC\\course-checkpoints-project\\.dvc\\cache\\files\\md5'\n",
      "2024-10-14 15:12:28,870 DEBUG: Preparing to collect status from 'memory://dvc-staging-md5/9aff2382043d6bd1cce3b3391b706ba6f119b54588c203a97d23388e3519ec0c'\n",
      "2024-10-14 15:12:29,001 DEBUG: link type reflink is not available ([Errno 129] no more link types left to try out)\n",
      "2024-10-14 15:12:29,002 DEBUG: Removing 'd:\\MLOps\\Hands_on\\DVC\\DVC\\course-checkpoints-project\\.npwjzEK90szqYW40zdVE5w.tmp'\n",
      "2024-10-14 15:12:29,005 DEBUG: Removing 'd:\\MLOps\\Hands_on\\DVC\\DVC\\course-checkpoints-project\\.npwjzEK90szqYW40zdVE5w.tmp'\n",
      "2024-10-14 15:12:29,005 DEBUG: Removing 'd:\\MLOps\\Hands_on\\DVC\\DVC\\course-checkpoints-project\\.dvc\\cache\\files\\md5\\.Imh5yJ8WSTveIEIxl1obGg.tmp'\n",
      "2024-10-14 15:12:29,006 DEBUG: Removing 'd:\\MLOps\\Hands_on\\DVC\\DVC\\course-checkpoints-project\\model.pt'\n",
      "2024-10-14 15:12:29,168 DEBUG: stage: 'train' was reproduced\n",
      "Updating lock file 'dvc.lock'\n",
      "2024-10-14 15:12:29,201 DEBUG: Staging stage-related files: ['dvc.yaml', 'dvc.lock', 'pretrained_model_tuner.py', 'dvclive\\\\metrics.json']\n",
      "2024-10-14 15:12:29,338 DEBUG: Staging top-level files: ['results\\\\metrics.json', 'dvclive\\\\metrics.json', 'results/plots/metrics/val_acc.tsv', 'results/plots/metrics/val_loss.tsv', 'dvclive/plots/metrics/val_acc.tsv', 'dvclive/plots/metrics/val_loss.tsv']\n",
      "2024-10-14 15:12:29,379 DEBUG: Commit to new experiment branch 'refs/exps/2b/948b5677dfd79a334bc0eda46ed32aff1a1d56/dusky-geum'\n",
      "2024-10-14 15:12:29,994 DEBUG: Collected experiment 'c41e8d1'.\n",
      "2024-10-14 15:12:29,995 DEBUG: Removing 'd:\\MLOps\\Hands_on\\DVC\\DVC\\course-checkpoints-project\\.dvc\\tmp\\exps\\run\\workspace'\n",
      "2024-10-14 15:12:30,017 DEBUG: Removing 'd:\\MLOps\\Hands_on\\DVC\\DVC\\course-checkpoints-project\\.dvc\\tmp\\exps\\run\\workspace\\workspace.json'\n",
      "\n",
      "Ran experiment(s): dusky-geum\n",
      "Experiment results have been applied to your workspace.\n",
      "2024-10-14 15:12:30,024 DEBUG: Analytics is enabled.\n",
      "2024-10-14 15:12:30,408 DEBUG: Trying to spawn ['daemon', 'analytics', 'C:\\\\Users\\\\st_cong\\\\AppData\\\\Local\\\\Temp\\\\tmp0rbf9q4r', '-v']\n",
      "2024-10-14 15:12:30,414 DEBUG: Spawned ['daemon', 'analytics', 'C:\\\\Users\\\\st_cong\\\\AppData\\\\Local\\\\Temp\\\\tmp0rbf9q4r', '-v'] with pid 13180\n"
     ]
    },
    {
     "name": "stderr",
     "output_type": "stream",
     "text": [
      "C:\\Users\\st_cong\\AppData\\Roaming\\Python\\Python312\\site-packages\\torchvision\\models\\_utils.py:223: UserWarning: Arguments other than a weight enum or `None` for 'weights' are deprecated since 0.13 and may be removed in the future. The current behavior is equivalent to passing `weights=AlexNet_Weights.IMAGENET1K_V1`. You can also use `weights=AlexNet_Weights.DEFAULT` to get the most up-to-date weights.\n",
      "  warnings.warn(msg)\n"
     ]
    }
   ],
   "source": [
    "!dvc exp run -v"
   ]
  },
  {
   "cell_type": "markdown",
   "metadata": {},
   "source": [
    "## Show run experiment"
   ]
  },
  {
   "cell_type": "code",
   "execution_count": 7,
   "metadata": {},
   "outputs": [
    {
     "name": "stdout",
     "output_type": "stream",
     "text": [
      " ───────────────────────────────────────────────────────────────────────────────────────────────────────────────────────────────────────────────────────────────────────────────────────────────────────────────────────────────────────────────────────────────────────────────────────────────────────────────────────────────────────────────────────────────────────────────────────────────────────────────────────────────────────────────────────────────────────────────────────────────────────────────────────────────────────────────────────────────────────────────────────────────────────────────────────────────────────────── \n",
      "  Experiment                 Created        results\\metrics.json:acc   results\\metrics.json:loss   results\\metrics.json:training_time   results\\metrics.json:val_acc   results\\metrics.json:val_loss   results\\metrics.json:step   dvclive\\metrics.json:acc   dvclive\\metrics.json:loss   dvclive\\metrics.json:training_time   dvclive\\metrics.json:val_acc   dvclive\\metrics.json:val_loss   dvclive\\metrics.json:step   results.json:acc   results.json:loss   results.json:training_time   lr      momentum   model_name   num_classes   batch_size   num_epochs   hymenoptera_data                       pretrained_model_tuner.py         \n",
      " ───────────────────────────────────────────────────────────────────────────────────────────────────────────────────────────────────────────────────────────────────────────────────────────────────────────────────────────────────────────────────────────────────────────────────────────────────────────────────────────────────────────────────────────────────────────────────────────────────────────────────────────────────────────────────────────────────────────────────────────────────────────────────────────────────────────────────────────────────────────────────────────────────────────────────────────────────────────── \n",
      "  workspace                  -                               0.88525                     0.29129                               159.32                        0.90196                          0.2694                           3                    0.88115                      0.3194                               74.869                        0.88235                          0.3108                           1                  -                   -                            -   0.001   0.01       alexnet      2             10           2            5541a96fc6b9ced1bfc39f068d9e8a4f.dir   e564b2010aff69ca2f1c69bde58f88e7  \n",
      "  main                       Nov 18, 2021                          -                           -                                    -                              -                               -                           -                          -                           -                                    -                              -                               -                           -            0.85246             0.34146                       77.087   0.001   0.01       alexnet      2             10           2            70257f9e4b0b3ec72deeed5e1b880c3b.dir   6a7177cbfc33bcbe3e0c28d0b9755166  \n",
      "  └── c41e8d1 [dusky-geum]   03:12 PM                              !                           !                                    !                              !                               !                           !                    0.88115                      0.3194                               74.869                        0.88235                          0.3108                           1                  -                   -                            -   0.001   0.01       alexnet      2             10           2            5541a96fc6b9ced1bfc39f068d9e8a4f.dir   e564b2010aff69ca2f1c69bde58f88e7  \n",
      " ───────────────────────────────────────────────────────────────────────────────────────────────────────────────────────────────────────────────────────────────────────────────────────────────────────────────────────────────────────────────────────────────────────────────────────────────────────────────────────────────────────────────────────────────────────────────────────────────────────────────────────────────────────────────────────────────────────────────────────────────────────────────────────────────────────────────────────────────────────────────────────────────────────────────────────────────────────────── \n"
     ]
    }
   ],
   "source": [
    "!dvc exp show"
   ]
  },
  {
   "cell_type": "markdown",
   "metadata": {},
   "source": [
    "# Enable checkpoints\n",
    "\n",
    "``` bash \n",
    "    outs:\n",
    "      - model.pt:\n",
    "          checkpoints: true\n",
    "    live:\n",
    "       results:\n",
    "          summary: true\n",
    "          html: true\n",
    "```"
   ]
  },
  {
   "cell_type": "code",
   "execution_count": 27,
   "metadata": {},
   "outputs": [
    {
     "name": "stdout",
     "output_type": "stream",
     "text": [
      "Requirement already satisfied: dvclive in d:\\users\\st_cong\\conda\\dvc\\lib\\site-packages (3.48.0)\n",
      "Requirement already satisfied: dvc>=3.48.4 in d:\\users\\st_cong\\conda\\dvc\\lib\\site-packages (from dvclive) (3.55.2)\n",
      "Requirement already satisfied: dvc-render<2,>=1.0.0 in d:\\users\\st_cong\\conda\\dvc\\lib\\site-packages (from dvclive) (1.0.2)\n",
      "Requirement already satisfied: dvc-studio-client<1,>=0.20 in d:\\users\\st_cong\\conda\\dvc\\lib\\site-packages (from dvclive) (0.21.0)\n",
      "Requirement already satisfied: funcy in d:\\users\\st_cong\\conda\\dvc\\lib\\site-packages (from dvclive) (2.0)\n",
      "Requirement already satisfied: gto in d:\\users\\st_cong\\conda\\dvc\\lib\\site-packages (from dvclive) (1.7.1)\n",
      "Requirement already satisfied: ruamel.yaml in d:\\users\\st_cong\\conda\\dvc\\lib\\site-packages (from dvclive) (0.18.6)\n",
      "Requirement already satisfied: scmrepo<4,>=3 in d:\\users\\st_cong\\conda\\dvc\\lib\\site-packages (from dvclive) (3.3.8)\n",
      "Requirement already satisfied: psutil in d:\\users\\st_cong\\conda\\dvc\\lib\\site-packages (from dvclive) (6.0.0)\n",
      "Requirement already satisfied: pynvml in d:\\users\\st_cong\\conda\\dvc\\lib\\site-packages (from dvclive) (11.5.3)\n",
      "Requirement already satisfied: attrs>=22.2.0 in c:\\users\\st_cong\\appdata\\roaming\\python\\python312\\site-packages (from dvc>=3.48.4->dvclive) (24.2.0)\n",
      "Requirement already satisfied: celery in d:\\users\\st_cong\\conda\\dvc\\lib\\site-packages (from dvc>=3.48.4->dvclive) (5.4.0)\n",
      "Requirement already satisfied: colorama>=0.3.9 in d:\\users\\st_cong\\conda\\dvc\\lib\\site-packages (from dvc>=3.48.4->dvclive) (0.4.6)\n",
      "Requirement already satisfied: configobj>=5.0.6 in d:\\users\\st_cong\\conda\\dvc\\lib\\site-packages (from dvc>=3.48.4->dvclive) (5.0.9)\n",
      "Requirement already satisfied: distro>=1.3 in d:\\users\\st_cong\\conda\\dvc\\lib\\site-packages (from dvc>=3.48.4->dvclive) (1.9.0)\n",
      "Requirement already satisfied: dpath<3,>=2.1.0 in d:\\users\\st_cong\\conda\\dvc\\lib\\site-packages (from dvc>=3.48.4->dvclive) (2.2.0)\n",
      "Requirement already satisfied: dulwich in d:\\users\\st_cong\\conda\\dvc\\lib\\site-packages (from dvc>=3.48.4->dvclive) (0.22.1)\n",
      "Requirement already satisfied: dvc-data<3.17,>=3.16.2 in d:\\users\\st_cong\\conda\\dvc\\lib\\site-packages (from dvc>=3.48.4->dvclive) (3.16.6)\n",
      "Requirement already satisfied: dvc-http>=2.29.0 in d:\\users\\st_cong\\conda\\dvc\\lib\\site-packages (from dvc>=3.48.4->dvclive) (2.32.0)\n",
      "Requirement already satisfied: dvc-objects in d:\\users\\st_cong\\conda\\dvc\\lib\\site-packages (from dvc>=3.48.4->dvclive) (5.1.0)\n",
      "Requirement already satisfied: dvc-task<1,>=0.3.0 in d:\\users\\st_cong\\conda\\dvc\\lib\\site-packages (from dvc>=3.48.4->dvclive) (0.40.2)\n",
      "Requirement already satisfied: flatten-dict<1,>=0.4.1 in d:\\users\\st_cong\\conda\\dvc\\lib\\site-packages (from dvc>=3.48.4->dvclive) (0.4.2)\n",
      "Requirement already satisfied: flufl.lock<9,>=8.1.0 in d:\\users\\st_cong\\conda\\dvc\\lib\\site-packages (from dvc>=3.48.4->dvclive) (8.1.0)\n",
      "Requirement already satisfied: fsspec>=2024.2.0 in c:\\users\\st_cong\\appdata\\roaming\\python\\python312\\site-packages (from dvc>=3.48.4->dvclive) (2024.9.0)\n",
      "Requirement already satisfied: grandalf<1,>=0.7 in d:\\users\\st_cong\\conda\\dvc\\lib\\site-packages (from dvc>=3.48.4->dvclive) (0.8)\n",
      "Requirement already satisfied: hydra-core>=1.1 in d:\\users\\st_cong\\conda\\dvc\\lib\\site-packages (from dvc>=3.48.4->dvclive) (1.3.2)\n",
      "Requirement already satisfied: iterative-telemetry>=0.0.7 in d:\\users\\st_cong\\conda\\dvc\\lib\\site-packages (from dvc>=3.48.4->dvclive) (0.0.9)\n",
      "Requirement already satisfied: kombu in d:\\users\\st_cong\\conda\\dvc\\lib\\site-packages (from dvc>=3.48.4->dvclive) (5.4.2)\n",
      "Requirement already satisfied: networkx>=2.5 in c:\\users\\st_cong\\appdata\\roaming\\python\\python312\\site-packages (from dvc>=3.48.4->dvclive) (3.3)\n",
      "Requirement already satisfied: omegaconf in c:\\users\\st_cong\\appdata\\roaming\\python\\python312\\site-packages (from dvc>=3.48.4->dvclive) (2.3.0)\n",
      "Requirement already satisfied: packaging>=19 in d:\\users\\st_cong\\conda\\dvc\\lib\\site-packages (from dvc>=3.48.4->dvclive) (24.1)\n",
      "Requirement already satisfied: pathspec>=0.10.3 in d:\\users\\st_cong\\conda\\dvc\\lib\\site-packages (from dvc>=3.48.4->dvclive) (0.12.1)\n",
      "Requirement already satisfied: platformdirs<4,>=3.1.1 in d:\\users\\st_cong\\conda\\dvc\\lib\\site-packages (from dvc>=3.48.4->dvclive) (3.11.0)\n",
      "Requirement already satisfied: pydot>=1.2.4 in d:\\users\\st_cong\\conda\\dvc\\lib\\site-packages (from dvc>=3.48.4->dvclive) (3.0.2)\n",
      "Requirement already satisfied: pygtrie>=2.3.2 in d:\\users\\st_cong\\conda\\dvc\\lib\\site-packages (from dvc>=3.48.4->dvclive) (2.5.0)\n",
      "Requirement already satisfied: pyparsing>=2.4.7 in d:\\users\\st_cong\\conda\\dvc\\lib\\site-packages (from dvc>=3.48.4->dvclive) (3.1.4)\n",
      "Requirement already satisfied: requests>=2.22 in c:\\users\\st_cong\\appdata\\roaming\\python\\python312\\site-packages (from dvc>=3.48.4->dvclive) (2.32.3)\n",
      "Requirement already satisfied: rich>=12 in d:\\users\\st_cong\\conda\\dvc\\lib\\site-packages (from dvc>=3.48.4->dvclive) (13.9.2)\n",
      "Requirement already satisfied: shortuuid>=0.5 in d:\\users\\st_cong\\conda\\dvc\\lib\\site-packages (from dvc>=3.48.4->dvclive) (1.0.13)\n",
      "Requirement already satisfied: shtab<2,>=1.3.4 in d:\\users\\st_cong\\conda\\dvc\\lib\\site-packages (from dvc>=3.48.4->dvclive) (1.7.1)\n",
      "Requirement already satisfied: tabulate>=0.8.7 in d:\\users\\st_cong\\conda\\dvc\\lib\\site-packages (from dvc>=3.48.4->dvclive) (0.9.0)\n",
      "Requirement already satisfied: tomlkit>=0.11.1 in d:\\users\\st_cong\\conda\\dvc\\lib\\site-packages (from dvc>=3.48.4->dvclive) (0.13.2)\n",
      "Requirement already satisfied: tqdm<5,>=4.63.1 in d:\\users\\st_cong\\conda\\dvc\\lib\\site-packages (from dvc>=3.48.4->dvclive) (4.66.5)\n",
      "Requirement already satisfied: voluptuous>=0.11.7 in d:\\users\\st_cong\\conda\\dvc\\lib\\site-packages (from dvc>=3.48.4->dvclive) (0.15.2)\n",
      "Requirement already satisfied: zc.lockfile>=1.2.1 in d:\\users\\st_cong\\conda\\dvc\\lib\\site-packages (from dvc>=3.48.4->dvclive) (3.0.post1)\n",
      "Requirement already satisfied: typer>=0.4.1 in d:\\users\\st_cong\\conda\\dvc\\lib\\site-packages (from gto->dvclive) (0.12.5)\n",
      "Requirement already satisfied: pydantic!=2.0.0,<3,>=1.9.0 in d:\\users\\st_cong\\conda\\dvc\\lib\\site-packages (from gto->dvclive) (2.9.2)\n",
      "Requirement already satisfied: semver>=2.13.0 in d:\\users\\st_cong\\conda\\dvc\\lib\\site-packages (from gto->dvclive) (3.0.2)\n",
      "Requirement already satisfied: entrypoints in d:\\users\\st_cong\\conda\\dvc\\lib\\site-packages (from gto->dvclive) (0.4)\n",
      "Requirement already satisfied: ruamel.yaml.clib>=0.2.7 in d:\\users\\st_cong\\conda\\dvc\\lib\\site-packages (from ruamel.yaml->dvclive) (0.2.8)\n",
      "Requirement already satisfied: gitpython>3 in d:\\users\\st_cong\\conda\\dvc\\lib\\site-packages (from scmrepo<4,>=3->dvclive) (3.1.43)\n",
      "Requirement already satisfied: pygit2>=1.14.0 in d:\\users\\st_cong\\conda\\dvc\\lib\\site-packages (from scmrepo<4,>=3->dvclive) (1.15.1)\n",
      "Requirement already satisfied: asyncssh<3,>=2.13.1 in d:\\users\\st_cong\\conda\\dvc\\lib\\site-packages (from scmrepo<4,>=3->dvclive) (2.17.0)\n",
      "Requirement already satisfied: aiohttp-retry>=2.5.0 in d:\\users\\st_cong\\conda\\dvc\\lib\\site-packages (from scmrepo<4,>=3->dvclive) (2.8.3)\n",
      "Requirement already satisfied: aiohttp in d:\\users\\st_cong\\conda\\dvc\\lib\\site-packages (from aiohttp-retry>=2.5.0->scmrepo<4,>=3->dvclive) (3.10.9)\n",
      "Requirement already satisfied: cryptography>=39.0 in d:\\users\\st_cong\\conda\\dvc\\lib\\site-packages (from asyncssh<3,>=2.13.1->scmrepo<4,>=3->dvclive) (43.0.1)\n",
      "Requirement already satisfied: typing-extensions>=4.0.0 in d:\\users\\st_cong\\conda\\dvc\\lib\\site-packages (from asyncssh<3,>=2.13.1->scmrepo<4,>=3->dvclive) (4.12.2)\n",
      "Requirement already satisfied: urllib3>=1.25 in d:\\users\\st_cong\\conda\\dvc\\lib\\site-packages (from dulwich->dvc>=3.48.4->dvclive) (2.2.3)\n",
      "Requirement already satisfied: setuptools in d:\\users\\st_cong\\conda\\dvc\\lib\\site-packages (from dulwich->dvc>=3.48.4->dvclive) (75.1.0)\n",
      "Requirement already satisfied: dictdiffer>=0.8.1 in d:\\users\\st_cong\\conda\\dvc\\lib\\site-packages (from dvc-data<3.17,>=3.16.2->dvc>=3.48.4->dvclive) (0.9.0)\n",
      "Requirement already satisfied: diskcache>=5.2.1 in d:\\users\\st_cong\\conda\\dvc\\lib\\site-packages (from dvc-data<3.17,>=3.16.2->dvc>=3.48.4->dvclive) (5.6.3)\n",
      "Requirement already satisfied: sqltrie<1,>=0.11.0 in d:\\users\\st_cong\\conda\\dvc\\lib\\site-packages (from dvc-data<3.17,>=3.16.2->dvc>=3.48.4->dvclive) (0.11.1)\n",
      "Requirement already satisfied: orjson<4,>=3 in d:\\users\\st_cong\\conda\\dvc\\lib\\site-packages (from dvc-data<3.17,>=3.16.2->dvc>=3.48.4->dvclive) (3.10.7)\n",
      "Requirement already satisfied: pywin32>=225 in d:\\users\\st_cong\\conda\\dvc\\lib\\site-packages (from dvc-task<1,>=0.3.0->dvc>=3.48.4->dvclive) (306)\n",
      "Requirement already satisfied: billiard<5.0,>=4.2.0 in d:\\users\\st_cong\\conda\\dvc\\lib\\site-packages (from celery->dvc>=3.48.4->dvclive) (4.2.1)\n",
      "Requirement already satisfied: vine<6.0,>=5.1.0 in d:\\users\\st_cong\\conda\\dvc\\lib\\site-packages (from celery->dvc>=3.48.4->dvclive) (5.1.0)\n",
      "Requirement already satisfied: click<9.0,>=8.1.2 in d:\\users\\st_cong\\conda\\dvc\\lib\\site-packages (from celery->dvc>=3.48.4->dvclive) (8.1.7)\n",
      "Requirement already satisfied: click-didyoumean>=0.3.0 in d:\\users\\st_cong\\conda\\dvc\\lib\\site-packages (from celery->dvc>=3.48.4->dvclive) (0.3.1)\n",
      "Requirement already satisfied: click-repl>=0.2.0 in d:\\users\\st_cong\\conda\\dvc\\lib\\site-packages (from celery->dvc>=3.48.4->dvclive) (0.3.0)\n",
      "Requirement already satisfied: click-plugins>=1.1.1 in d:\\users\\st_cong\\conda\\dvc\\lib\\site-packages (from celery->dvc>=3.48.4->dvclive) (1.1.1)\n",
      "Requirement already satisfied: tzdata>=2022.7 in d:\\users\\st_cong\\conda\\dvc\\lib\\site-packages (from celery->dvc>=3.48.4->dvclive) (2024.2)\n",
      "Requirement already satisfied: python-dateutil>=2.8.2 in d:\\users\\st_cong\\conda\\dvc\\lib\\site-packages (from celery->dvc>=3.48.4->dvclive) (2.9.0)\n",
      "Requirement already satisfied: six<2.0,>=1.12 in d:\\users\\st_cong\\conda\\dvc\\lib\\site-packages (from flatten-dict<1,>=0.4.1->dvc>=3.48.4->dvclive) (1.16.0)\n",
      "Requirement already satisfied: atpublic in d:\\users\\st_cong\\conda\\dvc\\lib\\site-packages (from flufl.lock<9,>=8.1.0->dvc>=3.48.4->dvclive) (5.0)\n",
      "Requirement already satisfied: gitdb<5,>=4.0.1 in d:\\users\\st_cong\\conda\\dvc\\lib\\site-packages (from gitpython>3->scmrepo<4,>=3->dvclive) (4.0.11)\n",
      "Requirement already satisfied: antlr4-python3-runtime==4.9.* in d:\\users\\st_cong\\conda\\dvc\\lib\\site-packages (from hydra-core>=1.1->dvc>=3.48.4->dvclive) (4.9.3)\n",
      "Requirement already satisfied: appdirs in d:\\users\\st_cong\\conda\\dvc\\lib\\site-packages (from iterative-telemetry>=0.0.7->dvc>=3.48.4->dvclive) (1.4.4)\n",
      "Requirement already satisfied: filelock in c:\\users\\st_cong\\appdata\\roaming\\python\\python312\\site-packages (from iterative-telemetry>=0.0.7->dvc>=3.48.4->dvclive) (3.16.0)\n",
      "Requirement already satisfied: amqp<6.0.0,>=5.1.1 in d:\\users\\st_cong\\conda\\dvc\\lib\\site-packages (from kombu->dvc>=3.48.4->dvclive) (5.2.0)\n",
      "Requirement already satisfied: PyYAML>=5.1.0 in d:\\users\\st_cong\\conda\\dvc\\lib\\site-packages (from omegaconf->dvc>=3.48.4->dvclive) (6.0.2)\n",
      "Requirement already satisfied: annotated-types>=0.6.0 in d:\\users\\st_cong\\conda\\dvc\\lib\\site-packages (from pydantic!=2.0.0,<3,>=1.9.0->gto->dvclive) (0.7.0)\n",
      "Requirement already satisfied: pydantic-core==2.23.4 in d:\\users\\st_cong\\conda\\dvc\\lib\\site-packages (from pydantic!=2.0.0,<3,>=1.9.0->gto->dvclive) (2.23.4)\n",
      "Requirement already satisfied: cffi>=1.16.0 in c:\\users\\st_cong\\appdata\\roaming\\python\\python312\\site-packages (from pygit2>=1.14.0->scmrepo<4,>=3->dvclive) (1.17.1)\n",
      "Requirement already satisfied: charset-normalizer<4,>=2 in c:\\users\\st_cong\\appdata\\roaming\\python\\python312\\site-packages (from requests>=2.22->dvc>=3.48.4->dvclive) (3.3.2)\n",
      "Requirement already satisfied: idna<4,>=2.5 in c:\\users\\st_cong\\appdata\\roaming\\python\\python312\\site-packages (from requests>=2.22->dvc>=3.48.4->dvclive) (3.8)\n",
      "Requirement already satisfied: certifi>=2017.4.17 in c:\\users\\st_cong\\appdata\\roaming\\python\\python312\\site-packages (from requests>=2.22->dvc>=3.48.4->dvclive) (2024.8.30)\n",
      "Requirement already satisfied: markdown-it-py>=2.2.0 in d:\\users\\st_cong\\conda\\dvc\\lib\\site-packages (from rich>=12->dvc>=3.48.4->dvclive) (3.0.0)\n",
      "Requirement already satisfied: pygments<3.0.0,>=2.13.0 in d:\\users\\st_cong\\conda\\dvc\\lib\\site-packages (from rich>=12->dvc>=3.48.4->dvclive) (2.18.0)\n",
      "Requirement already satisfied: shellingham>=1.3.0 in d:\\users\\st_cong\\conda\\dvc\\lib\\site-packages (from typer>=0.4.1->gto->dvclive) (1.5.4)\n",
      "Requirement already satisfied: pycparser in d:\\users\\st_cong\\conda\\dvc\\lib\\site-packages (from cffi>=1.16.0->pygit2>=1.14.0->scmrepo<4,>=3->dvclive) (2.22)\n",
      "Requirement already satisfied: prompt-toolkit>=3.0.36 in d:\\users\\st_cong\\conda\\dvc\\lib\\site-packages (from click-repl>=0.2.0->celery->dvc>=3.48.4->dvclive) (3.0.48)\n",
      "Requirement already satisfied: smmap<6,>=3.0.1 in d:\\users\\st_cong\\conda\\dvc\\lib\\site-packages (from gitdb<5,>=4.0.1->gitpython>3->scmrepo<4,>=3->dvclive) (5.0.1)\n",
      "Requirement already satisfied: mdurl~=0.1 in d:\\users\\st_cong\\conda\\dvc\\lib\\site-packages (from markdown-it-py>=2.2.0->rich>=12->dvc>=3.48.4->dvclive) (0.1.2)\n",
      "Requirement already satisfied: aiohappyeyeballs>=2.3.0 in d:\\users\\st_cong\\conda\\dvc\\lib\\site-packages (from aiohttp->aiohttp-retry>=2.5.0->scmrepo<4,>=3->dvclive) (2.4.3)\n",
      "Requirement already satisfied: aiosignal>=1.1.2 in d:\\users\\st_cong\\conda\\dvc\\lib\\site-packages (from aiohttp->aiohttp-retry>=2.5.0->scmrepo<4,>=3->dvclive) (1.3.1)\n",
      "Requirement already satisfied: frozenlist>=1.1.1 in d:\\users\\st_cong\\conda\\dvc\\lib\\site-packages (from aiohttp->aiohttp-retry>=2.5.0->scmrepo<4,>=3->dvclive) (1.4.1)\n",
      "Requirement already satisfied: multidict<7.0,>=4.5 in d:\\users\\st_cong\\conda\\dvc\\lib\\site-packages (from aiohttp->aiohttp-retry>=2.5.0->scmrepo<4,>=3->dvclive) (6.1.0)\n",
      "Requirement already satisfied: yarl<2.0,>=1.12.0 in d:\\users\\st_cong\\conda\\dvc\\lib\\site-packages (from aiohttp->aiohttp-retry>=2.5.0->scmrepo<4,>=3->dvclive) (1.14.0)\n",
      "Requirement already satisfied: wcwidth in d:\\users\\st_cong\\conda\\dvc\\lib\\site-packages (from prompt-toolkit>=3.0.36->click-repl>=0.2.0->celery->dvc>=3.48.4->dvclive) (0.2.13)\n",
      "Requirement already satisfied: propcache>=0.2.0 in d:\\users\\st_cong\\conda\\dvc\\lib\\site-packages (from yarl<2.0,>=1.12.0->aiohttp->aiohttp-retry>=2.5.0->scmrepo<4,>=3->dvclive) (0.2.0)\n"
     ]
    }
   ],
   "source": [
    "!pip install dvclive"
   ]
  },
  {
   "cell_type": "markdown",
   "metadata": {},
   "source": [
    "# After update\n",
    "\n",
    "\n",
    "\n",
    "\n",
    "\n",
    "then run exxperiment again"
   ]
  },
  {
   "cell_type": "code",
   "execution_count": 9,
   "metadata": {},
   "outputs": [
    {
     "name": "stdout",
     "output_type": "stream",
     "text": [
      "Added stage 'train' in 'dvc.yaml'\n",
      "\n",
      "To track the changes with git, run:\n",
      "\n",
      "\tgit add dvc.yaml\n",
      "\n",
      "To enable auto staging, run:\n",
      "\n",
      "\tdvc config core.autostage true\n"
     ]
    }
   ],
   "source": [
    "!dvc stage add --name train -f\\\n",
    "  --deps hymenoptera_data/ --deps pretrained_model_tuner.py \\\n",
    "  --outs model.pt --outs-no-cache dvclive/metrics.json \\\n",
    "  python pretrained_model_tuner.py"
   ]
  },
  {
   "cell_type": "code",
   "execution_count": 10,
   "metadata": {},
   "outputs": [
    {
     "name": "stdout",
     "output_type": "stream",
     "text": [
      "Update params.yaml\n"
     ]
    }
   ],
   "source": [
    "import yaml \n",
    "\n",
    "params_yaml = 'params.yaml'\n",
    "\n",
    "with open(params_yaml, \"r\") as f:\n",
    "    config = yaml.safe_load(f)\n",
    "\n",
    "\n",
    "config.update({\n",
    "  'model_name': 'squeezenet',\n",
    "    'num_epochs': 2\n",
    "})\n",
    "\n",
    "with open(params_yaml, \"w\") as f:\n",
    "    yaml.safe_dump(config, f)\n",
    "print('Update params.yaml')"
   ]
  },
  {
   "cell_type": "code",
   "execution_count": 13,
   "metadata": {},
   "outputs": [
    {
     "name": "stdout",
     "output_type": "stream",
     "text": [
      "Reproducing experiment 'stoic-look'"
     ]
    },
    {
     "name": "stderr",
     "output_type": "stream",
     "text": [
      "C:\\Users\\st_cong\\AppData\\Roaming\\Python\\Python312\\site-packages\\torchvision\\models\\_utils.py:223: UserWarning: Arguments other than a weight enum or `None` for 'weights' are deprecated since 0.13 and may be removed in the future. The current behavior is equivalent to passing `weights=SqueezeNet1_0_Weights.IMAGENET1K_V1`. You can also use `weights=SqueezeNet1_0_Weights.DEFAULT` to get the most up-to-date weights.\n",
      "  warnings.warn(msg)\n",
      "Downloading: \"https://download.pytorch.org/models/squeezenet1_0-b66bff10.pth\" to C:\\Users\\st_cong/.cache\\torch\\hub\\checkpoints\\squeezenet1_0-b66bff10.pth\n",
      "\n",
      "  0%|          | 0.00/4.78M [00:00<?, ?B/s]\n",
      "  3%|▎         | 128k/4.78M [00:00<00:09, 491kB/s]\n",
      "  8%|▊         | 384k/4.78M [00:00<00:04, 987kB/s]\n",
      " 16%|█▌        | 768k/4.78M [00:00<00:02, 1.82MB/s]\n",
      " 29%|██▉       | 1.38M/4.78M [00:00<00:01, 3.18MB/s]\n",
      " 52%|█████▏    | 2.50M/4.78M [00:00<00:00, 5.54MB/s]\n",
      " 78%|███████▊  | 3.75M/4.78M [00:00<00:00, 7.48MB/s]\n",
      "100%|██████████| 4.78M/4.78M [00:00<00:00, 5.25MB/s]\n"
     ]
    },
    {
     "name": "stdout",
     "output_type": "stream",
     "text": [
      "\n",
      "Verifying data sources in stage: 'hymenoptera_data.dvc'\n",
      "\n",
      "Running stage 'train':\n",
      "> python pretrained_model_tuner.py\n",
      "Initializing Datasets and Dataloaders...\n",
      "Params to learn:\n",
      "\t classifier.1.weight\n",
      "\t classifier.1.bias\n",
      "Epoch 0/1\n",
      "----------\n",
      "train Loss: 0.6808 Acc: 0.6189\n",
      "val Loss: 0.4314 Acc: 0.7712\n",
      "\n",
      "Epoch 1/1\n",
      "----------\n",
      "train Loss: 0.4490 Acc: 0.7746\n",
      "val Loss: 0.3513 Acc: 0.8627\n",
      "\n",
      "Training complete in 1m 49s\n",
      "Best val acc: 0.8627\n",
      "Updating lock file 'dvc.lock'\n",
      "\n",
      "Ran experiment(s): stoic-look\n",
      "Experiment results have been applied to your workspace.\n"
     ]
    }
   ],
   "source": [
    "!dvc exp run -f"
   ]
  },
  {
   "cell_type": "code",
   "execution_count": 14,
   "metadata": {},
   "outputs": [
    {
     "name": "stdout",
     "output_type": "stream",
     "text": [
      " ───────────────────────────────────────────────────────────────────────────────────────────────────────────────────────────────────────────────────────────────────────────────────────────────────────────────────────────────────────────────────────────────────────────────────────────────────────────────────────────────────────────────────────────────────────────────────────────────────────────────────────────────────────────────────────────────────────────────────────────────────────────────────────────────────────────────────────────────────────────────────────────────────────────────────────────────────────────── \n",
      "  Experiment                 Created        results\\metrics.json:acc   results\\metrics.json:loss   results\\metrics.json:training_time   results\\metrics.json:val_acc   results\\metrics.json:val_loss   results\\metrics.json:step   dvclive\\metrics.json:acc   dvclive\\metrics.json:loss   dvclive\\metrics.json:training_time   dvclive\\metrics.json:val_acc   dvclive\\metrics.json:val_loss   dvclive\\metrics.json:step   results.json:acc   results.json:loss   results.json:training_time   batch_size   lr      model_name   momentum   num_classes   num_epochs   hymenoptera_data                       pretrained_model_tuner.py         \n",
      " ───────────────────────────────────────────────────────────────────────────────────────────────────────────────────────────────────────────────────────────────────────────────────────────────────────────────────────────────────────────────────────────────────────────────────────────────────────────────────────────────────────────────────────────────────────────────────────────────────────────────────────────────────────────────────────────────────────────────────────────────────────────────────────────────────────────────────────────────────────────────────────────────────────────────────────────────────────────── \n",
      "  workspace                  -                               0.88525                     0.29129                               159.32                        0.90196                          0.2694                           3                    0.77459                       0.449                               85.589                        0.86275                         0.35126                           1                  -                   -                            -   10           0.001   squeezenet   0.01       2             2            5541a96fc6b9ced1bfc39f068d9e8a4f.dir   e564b2010aff69ca2f1c69bde58f88e7  \n",
      "  main                       Nov 18, 2021                          -                           -                                    -                              -                               -                           -                          -                           -                                    -                              -                               -                           -            0.85246             0.34146                       77.087   10           0.001   alexnet      0.01       2             2            70257f9e4b0b3ec72deeed5e1b880c3b.dir   6a7177cbfc33bcbe3e0c28d0b9755166  \n",
      "  ├── 77cbf88 [stoic-look]   03:19 PM                              !                           !                                    !                              !                               !                           !                    0.77459                       0.449                               85.589                        0.86275                         0.35126                           1                  -                   -                            -   10           0.001   squeezenet   0.01       2             2            5541a96fc6b9ced1bfc39f068d9e8a4f.dir   e564b2010aff69ca2f1c69bde58f88e7  \n",
      "  ├── e5011a3 [moire-huia]   03:16 PM                              !                           !                                    !                              !                               !                           !                    0.88115                      0.3194                               74.869                        0.88235                          0.3108                           1                  -                   -                            -   10           0.001   squeezenet   0.01       2             2            5541a96fc6b9ced1bfc39f068d9e8a4f.dir   e564b2010aff69ca2f1c69bde58f88e7  \n",
      "  └── c41e8d1 [dusky-geum]   03:12 PM                              !                           !                                    !                              !                               !                           !                    0.88115                      0.3194                               74.869                        0.88235                          0.3108                           1                  -                   -                            -   10           0.001   alexnet      0.01       2             2            5541a96fc6b9ced1bfc39f068d9e8a4f.dir   e564b2010aff69ca2f1c69bde58f88e7  \n",
      " ───────────────────────────────────────────────────────────────────────────────────────────────────────────────────────────────────────────────────────────────────────────────────────────────────────────────────────────────────────────────────────────────────────────────────────────────────────────────────────────────────────────────────────────────────────────────────────────────────────────────────────────────────────────────────────────────────────────────────────────────────────────────────────────────────────────────────────────────────────────────────────────────────────────────────────────────────────────── \n"
     ]
    }
   ],
   "source": [
    "!dvc exp show"
   ]
  },
  {
   "cell_type": "code",
   "execution_count": null,
   "metadata": {},
   "outputs": [],
   "source": []
  }
 ],
 "metadata": {
  "kernelspec": {
   "display_name": "Python 3",
   "language": "python",
   "name": "python3"
  },
  "language_info": {
   "codemirror_mode": {
    "name": "ipython",
    "version": 3
   },
   "file_extension": ".py",
   "mimetype": "text/x-python",
   "name": "python",
   "nbconvert_exporter": "python",
   "pygments_lexer": "ipython3",
   "version": "3.12.7"
  }
 },
 "nbformat": 4,
 "nbformat_minor": 2
}
